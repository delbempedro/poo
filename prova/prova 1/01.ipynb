{
 "cells": [
  {
   "cell_type": "markdown",
   "id": "e8dcf740-18c3-426d-a595-6798d652af7f",
   "metadata": {},
   "source": [
    "# Programação Orientada a Objetos — Primeira Prova"
   ]
  },
  {
   "cell_type": "markdown",
   "id": "e32f66c6-7f43-4c00-b7f4-1fe38c4d8b50",
   "metadata": {},
   "source": [
    "**Instruções:**\n",
    "\n",
    "- Responda às questões colocando seu código nas células indicadas, substituindo o `pass` quando presente.\n",
    "- Quando terminar, basta salvar o notebook com as suas edições (usando CNTRL-S ou pelo menu File > Save Notebook) e desligar o computador.\n",
    "- Não coloque o seu nome no notebook nem altere o nome de arquivo do notebook. A distinção entre as entregas dos diversos alunos será feita pela tira de papel com informações de login e senha, na qual você deve colocar seu nome e entregar ao professor antes de sair da sala.\n",
    "- Teste seu código rodando as células de teste presente imediatamente após a célula da resposta. Não altere o código das células de teste. Se quiser fazer outro tipo de teste, crie uma nova célula. Lembre-se de antes de entregar apagar qualquer nova célula de teste que você tenha criado.\n",
    "- Quando estiver satisfeito com seu código, lembre-se de retirar qualquer coisa que tenha colocado para seu desenvolvimento e não seja necessária (como código não mais em uso ou chamadas a `print` para acompanhar a execução).\n",
    "- Lembre-se de que você não precisa entender os códigos de teste. Mas às vezes pode ser útil ler os códigos de teste para entender melhor o que se pede. Portanto, se não entende algo de algum código de teste, não perca tempo com isso.\n",
    "\n",
    "**Dicas:** \n",
    "- Nenhum dos códigos pedidos abaixo é complexo. Se você está tendo dificuldade na resolução, possivelmente não está se lembrando da forma de realizar as operações necessárias em Python. O melhor é passar para outra questão e voltar a essa no final com o tempo disponível.\n",
    "- A correção das questões não é \"binária\", quer dizer, se houver algum erro nos teste não significa que a nota na questão será zero. Portanto, se estiver com dificuldades de fazer o código passar nos testes, o melhor é prosseguir para outra questão e voltar a essa apenas se sobrar tempo.\n",
    "\n",
    "**Boa sorte**"
   ]
  },
  {
   "cell_type": "markdown",
   "id": "356ce783-d673-49aa-a878-204dc23bdf46",
   "metadata": {},
   "source": [
    "## 1"
   ]
  },
  {
   "cell_type": "markdown",
   "id": "03bf6a1b-6a85-40d6-a383-312f054ce23b",
   "metadata": {},
   "source": [
    "## Nota: 2.0"
   ]
  },
  {
   "cell_type": "markdown",
   "id": "d6ac1f72-243b-44c3-a849-d1b873dc21dc",
   "metadata": {},
   "source": [
    "Escreva o código da função `bilateral_trim` que recebe uma lista e dois número inteiros não negativos `n` e `m` e retorna um pedaço da lista original, descartando os `n` primeiros elementos e os `m` últimos elementos.\n",
    "\n",
    "Por exemplo, a chamada\n",
    "\n",
    "```python\n",
    "bilateral_trim([1, 2, 3, 4, 5, 6, 7], 2, 3)\n",
    "```\n",
    "\n",
    "retorna a lista\n",
    "\n",
    "```python\n",
    "[3, 4]\n",
    "```\n",
    "\n",
    "São válidas todas as sobreposições entre as regiões de descarte do começo ou final, bem como entre elas e o início ou término da lista. Por exemplo, todas as chamadas abaixo são válidas e resultam no retorno de uma lista vazia:\n",
    "\n",
    "```python\n",
    "bilateral_trim([1, 2, 3, 4, 5], 3, 3)\n",
    "bilateral_trim([1, 2, 3, 4, 5], 6, 0)\n",
    "bilateral_trim([1, 2, 3, 4, 5], 0, 10)\n",
    "```"
   ]
  },
  {
   "cell_type": "code",
   "execution_count": 1,
   "id": "fa6c5b66-f308-4d8a-bc65-7e3ba4e58d04",
   "metadata": {},
   "outputs": [],
   "source": [
    "def bilateral_trim(the_list, n, m):\n",
    "    if n+m < len(the_list) and m != 0:\n",
    "        return the_list[n:-m]\n",
    "    elif m == 0:\n",
    "        return the_list[n:]\n",
    "    else:\n",
    "        void = []\n",
    "        return void"
   ]
  },
  {
   "cell_type": "code",
   "execution_count": 2,
   "id": "219d28a1-6488-48ad-a2d7-496723c0e657",
   "metadata": {},
   "outputs": [
    {
     "name": "stdout",
     "output_type": "stream",
     "text": [
      "Todos os testes passaram!\n"
     ]
    }
   ],
   "source": [
    "# Código de teste\n",
    "\n",
    "# Testando os exemplos:\n",
    "assert bilateral_trim([1, 2, 3, 4, 5, 6, 7], 2, 3) == [3, 4], 'Exemplo simples falhou'\n",
    "assert bilateral_trim([1, 2, 3, 4, 5], 3, 3) == [], 'Exemplo nulo 1 falhou'\n",
    "assert bilateral_trim([1, 2, 3, 4, 5], 6, 0) == [], 'Exemplo nulo 2 falhou'\n",
    "assert bilateral_trim([1, 2, 3, 4, 5], 0, 10) == [], 'Exemplo nulo 3 falhou'\n",
    "\n",
    "# Testando mais alguns casos\n",
    "from random import seed, randint\n",
    "seed(7600055)\n",
    "size = 20\n",
    "for k in range(1000):\n",
    "    n = randint(0, size + 2)\n",
    "    m = randint(0, size + 2)\n",
    "    values = list(range(k, k + size))\n",
    "    assert bilateral_trim(values, n, m) == list(range(k + n, k + size - m)), f'Test failed for k={k}, n={n} and m={m}'\n",
    "\n",
    "print('Todos os testes passaram!')"
   ]
  },
  {
   "cell_type": "markdown",
   "id": "3985b235-f006-4151-9d1f-6cbd570d7c51",
   "metadata": {},
   "source": [
    "## 2"
   ]
  },
  {
   "cell_type": "markdown",
   "id": "bf6120e9-4fcf-4d71-8488-aef33f93d064",
   "metadata": {},
   "source": [
    "## Nota: 2.0"
   ]
  },
  {
   "cell_type": "markdown",
   "id": "6ed7a979-6d8b-4602-a435-08151b1afbba",
   "metadata": {},
   "source": [
    "Implemente a função `list_is_palindrome` abaixo, que verifica se uma lista é \"palíndromo\", quer dizer, se o valor do primeiro elemento é igual ao valor do último, o segundo é igual ao penúltimo, etc.\n",
    "\n",
    "Trivialmente, uma lista vazia ou com apenas um elemento é um palíndromo.\n",
    "\n",
    "Por exemplo: \n",
    "- `list_is_palindrome([1, 2, 3])` deve retornar `False`\n",
    "- `list_is_palindrome([1, 2, 1])` deve retornar `True`\n",
    "- `list_is_palindrome([])` deve retornar `True`"
   ]
  },
  {
   "cell_type": "code",
   "execution_count": 1,
   "id": "79aa448b-8433-47d5-badc-7504eac14c64",
   "metadata": {},
   "outputs": [],
   "source": [
    "def list_is_palindrome(the_list):\n",
    "    count = 0\n",
    "    TorF = True\n",
    "    while count*2 < len(the_list):\n",
    "        if the_list[0] == the_list[-1]:\n",
    "            the_list = the_list[1:-2]\n",
    "        else:\n",
    "            TorF = False\n",
    "        count += 1\n",
    "    return TorF"
   ]
  },
  {
   "cell_type": "markdown",
   "id": "84188b82-7a7a-42ce-b0a8-eac32b411c17",
   "metadata": {},
   "source": [
    "**COMENTÁRIO:** Quando você detectou que a lista não é palíndromo, você poderia ter interrompido o loop com um `break`."
   ]
  },
  {
   "cell_type": "code",
   "execution_count": 2,
   "id": "074d2ed6-5417-47b8-a0db-ee2a88adb5cf",
   "metadata": {},
   "outputs": [
    {
     "name": "stdout",
     "output_type": "stream",
     "text": [
      "Todos os testes passaram\n"
     ]
    }
   ],
   "source": [
    "# Códigos de teste.\n",
    "\n",
    "# Testando os exemplos\n",
    "assert not list_is_palindrome([1, 2, 3]), 'Examplo 1 falhou.'\n",
    "assert list_is_palindrome([1, 2, 1]), 'Exemplo 2 falhou'\n",
    "assert list_is_palindrome([]), 'Exemplo 3 falhou'\n",
    "\n",
    "# Mais alguns testes\n",
    "assert list_is_palindrome([42]), 'Test 1 falhou.'\n",
    "assert list_is_palindrome(['gota', 18, 2.0, 18, 'gota']), 'Test 2 falhou.'\n",
    "assert not list_is_palindrome(['gota', 18, 2.0, 18, 'Gota']), 'Test 3 falhou.'\n",
    "assert list_is_palindrome([1, 2, 2., 1.]), 'Test 4 falhou.'\n",
    "\n",
    "print('Todos os testes passaram')"
   ]
  },
  {
   "cell_type": "markdown",
   "id": "3201c60f-ca66-4aea-80d0-f6c19937ed23",
   "metadata": {},
   "source": [
    "## 3"
   ]
  },
  {
   "cell_type": "markdown",
   "id": "df31ebd0-7e01-4468-968f-c09d231d8203",
   "metadata": {},
   "source": [
    "## Nota: 2.0"
   ]
  },
  {
   "cell_type": "markdown",
   "id": "acbda416-638e-46af-863a-05318ca440db",
   "metadata": {},
   "source": [
    "Abaixo você vê a implementação de uma função `square_ends_with_1_old(n)` que retorna uma lista com pares $(i, i ^ 2)$ para $i$ entre 0 e `n` mas apenas quando $i$ não é múltiplo de 3 e o último dígito de $i ^ 2$ é `1`. Essa função começa criando uma lista vazia e vai acrescentando os pares um a um através de um `for`."
   ]
  },
  {
   "cell_type": "code",
   "execution_count": 1,
   "id": "8aa39496-a257-4f32-9271-74c2c4b9b4db",
   "metadata": {},
   "outputs": [],
   "source": [
    "def square_ends_with_1_old(n):\n",
    "    values = []\n",
    "    for i in range(n):\n",
    "        si = i ** 2\n",
    "        if str(si)[-1] == '1' and i % 3 != 0:\n",
    "            values.append((i, si))\n",
    "    return values"
   ]
  },
  {
   "cell_type": "markdown",
   "id": "e3386b14-65c0-48d4-b3c1-1fc32294a176",
   "metadata": {},
   "source": [
    "Abaixo você deve desenvolver uma nova versão dessa função que ao invés de um `for` usa uma *list comprehension*."
   ]
  },
  {
   "cell_type": "code",
   "execution_count": 2,
   "id": "91208266-cc81-4acd-a189-f107befa6c84",
   "metadata": {},
   "outputs": [],
   "source": [
    "def square_ends_with_1(n):\n",
    "    values = [(i,i*i) for i in range(n) if i%3!=0 and str(si:=i*i)[-1] == '1']\n",
    "    return values"
   ]
  },
  {
   "cell_type": "markdown",
   "id": "178aa074-3b39-46a2-ba18-78d452444732",
   "metadata": {},
   "source": [
    "**COMENTÁRIO:**\n",
    "Você definiu a variável `si` usando o operador walrus mas não usou!"
   ]
  },
  {
   "cell_type": "markdown",
   "id": "40673720-bcbf-4b5f-a57c-df5fb1993630",
   "metadata": {},
   "source": [
    "O código de teste abaixo testa a sua função para alguns valores de `n`, comparando o resultado com o da função original."
   ]
  },
  {
   "cell_type": "code",
   "execution_count": 3,
   "id": "7f4f8414-703e-4d7b-aba7-f8f379da4945",
   "metadata": {},
   "outputs": [
    {
     "name": "stdout",
     "output_type": "stream",
     "text": [
      "Todos os testes passaram!\n"
     ]
    }
   ],
   "source": [
    "# Código de teste\n",
    "from random import seed, randint\n",
    "seed(7600055)\n",
    "for i in range(1000): # 1000 testes\n",
    "    n = randint(10, 10000)\n",
    "    assert square_ends_with_1(n) == square_ends_with_1_old(n), f'Teste {i} falhou para n={n}'\n",
    "    \n",
    "print('Todos os testes passaram!')"
   ]
  },
  {
   "cell_type": "markdown",
   "id": "461f09bf-8e9f-497e-ab22-bc3dbf5a83fc",
   "metadata": {},
   "source": [
    "## 4"
   ]
  },
  {
   "cell_type": "markdown",
   "id": "5b939196-5181-42d1-bf91-00db8387e246",
   "metadata": {},
   "source": [
    "## Nota: 1.7"
   ]
  },
  {
   "cell_type": "markdown",
   "id": "a80ea7d2-2df8-4ff6-a129-4bb1e5fdb86e",
   "metadata": {},
   "source": [
    "Na célula abaixo você deve implementar uma classe denominada `Colour`, com as seguintes características:\n",
    "- Os objetos da classe representam uma cor, através de intensidades de vermelho (red), verde (green) e azul (blue), cada qual sendo um inteiro com valores entre 0 e 255.\n",
    "- Ao criar um objeto, especificamos os valores de intensidades para vermelho, verde e azul, nessa ordem. Por exemplo, `Colour(1, 10, 100)` especifica um objeto com intensidade de vermelho 1, de verde 10 e de azul 100.\n",
    "- A classe tem um método de acesso que retorna as intensidades das três cores básica em uma tripla, na ordem vermelho, verde, azul. O método é denominado `get_intensity()`. Por exemplo, se chamarmos esse método no objeto do exemplo do item acima, será retornada a tupla `(1, 10, 100)`.\n",
    "- Existe também um método `dimmed(x)` que retorna **um novo objeto da classe Colour**, que corresponde a uma versão escurecida da cor do objeto que recebeu a chamada do método. O parâmetro `x` será um valor de ponto flutuante entre 0 e 1 e é interpretado como uma fração de escurecimento desejado. Para cada cor básica, se sua intensidade no objeto é $s$, então a intensidade no novo objeto será dada por $(1 - x)s$, arredondado para o inteiro mais próximo (use a função `round`). Por exemplo, ao aplicar `dimmed(0.5)` para o objeto dos exemplos acima, será retornado um objeto com a intensidade de vermelho em 0, de verde em 5 e de azul em 50. A aproximação da intensidade de vermelho para 0 é devido às aproximações de ponto flutuante e a forma como a função `round` realiza o aredondamento para inteiros. Por isso, para evitar problemas nos testes, use a função `round`.\n",
    "- Um outro método similar é o `brightened(x)`, que também retorna uma nova cor, mas agora com as novas intensidades calculadas por $(1 + x)s$, arredondado para um inteiro e **tomando cuidado que o valor não passe de 255**. Por exemplo, se chamamos `brightened(0.5)` no objeto do exemplo do segundo item, será retornado um objeto com intensidade de cor vermelha de 2, verde de 15 e azul de 150 (novamente, o valor 2 para vermelho é devido aos arredondamentos de ponto flutuante).\n",
    "\n",
    "Use encapsulação."
   ]
  },
  {
   "cell_type": "code",
   "execution_count": 4,
   "id": "7caceeaa-04eb-4ffd-82ba-4db223e346fb",
   "metadata": {},
   "outputs": [],
   "source": [
    "class Colour:\n",
    "    def __init__(self,R,G,B):\n",
    "        self._red = R\n",
    "        self._green = G\n",
    "        self._blue = B\n",
    "        self._auxred = R\n",
    "        self._auxgreen = G\n",
    "        self._auxblue = B\n",
    "        \n",
    "    def get_intensity(self):\n",
    "        return (self._red,self._green,self._blue)\n",
    "    \n",
    "    def dimmed(self,x):\n",
    "        self._auxred = round((1-x)*self._red)\n",
    "        self._auxgreen = round((1-x)*self._green)\n",
    "        self._auxblue = round((1-x)*self._blue)\n",
    "        return Colour(self._auxred,self._auxgreen,self._auxblue)\n",
    "    \n",
    "    def brightened(self,x):\n",
    "        if round((1+x)*self._red) <= 255:\n",
    "            self._auxred = round((1+x)*self._red)\n",
    "        else:\n",
    "            self._auxred = 255\n",
    "            \n",
    "        if round((1+x)*self._green) <= 255:\n",
    "            self._auxgreen = round((1+x)*self._green)\n",
    "        else:\n",
    "            self._auxgreen = 255\n",
    "        \n",
    "        if round((1+x)*self._blue) <= 255:\n",
    "            self._auxblue = round((1+x)*self._blue)\n",
    "        else:\n",
    "            self._auxblue = 255\n",
    "\n",
    "        return Colour(self._auxred,self._auxgreen,self._auxblue)"
   ]
  },
  {
   "cell_type": "markdown",
   "id": "1f327a37-f9bf-4ccb-87cb-ba52b7ee0692",
   "metadata": {},
   "source": [
    "**COMENTÁRIO:**\n",
    "As variáveis `_auxred`, etc são apenas variáveis auxiliares dos métodos `dimmed` e `brightened`, e portanto deveriam ser variáveis locais desses métodos, e não atributos do objeto."
   ]
  },
  {
   "cell_type": "code",
   "execution_count": 5,
   "id": "10d9d178-b0a3-48bb-88ef-f0087f80d7fc",
   "metadata": {},
   "outputs": [
    {
     "name": "stdout",
     "output_type": "stream",
     "text": [
      "Todos os testes passaram!\n"
     ]
    }
   ],
   "source": [
    "# Código de teste\n",
    "\n",
    "# Testando os exemplos\n",
    "c1 = Colour(1, 10, 100)\n",
    "c1r, c1g, c1b = c1.get_intensity()\n",
    "assert c1r == 1 and c1g == 10 and c1b == 100, 'get_intensity ou init não funcionaram.'\n",
    "c2 = c1.dimmed(0.5)\n",
    "assert type(c2) == Colour, 'O método dimmed precisa retornar um objeto Colour'\n",
    "c2r, c2g, c2b = c2.get_intensity()\n",
    "assert c2r == 0 and c2g == 5 and c2b == 50, 'Cálculo errado no dimmed.'\n",
    "c3 = c1.brightened(0.5)\n",
    "assert type(c3) == Colour, 'O método brightened precisa retornar um objeto Colour'\n",
    "c3r, c3g, c3b = c3.get_intensity()\n",
    "assert c3r == 2 and c3g == 15 and c3b == 150, 'Cálculo errado no brightened.'\n",
    "\n",
    "def dimm(s, x):\n",
    "    return round((1 - x) * s)\n",
    "\n",
    "def brighten(s, x):\n",
    "    ns = round((1 + x) * s)\n",
    "    return ns if ns <= 255 else 255\n",
    "\n",
    "# Mais diversos testes\n",
    "from random import seed, randint, random\n",
    "seed(7600055)\n",
    "for i in range(1000):\n",
    "    r, g, b = [randint(0, 255) for _ in range(3)]\n",
    "    c1 = Colour(r, g, b)\n",
    "    rp, gp, bp = c1.get_intensity()\n",
    "    assert rp == r and gp == g and bp == b, f'get_intensity ou init não funcionaram no teste {i}.'\n",
    "    x = random()\n",
    "    c2 = c1.dimmed(x)\n",
    "    c2r, c2g, c2b = c2.get_intensity()\n",
    "    assert c2r == dimm(r, x) and c2g == dimm(g, x) and c2b == dimm(b, x), f'Cálculo errado no dimmed no teste {i} com x={x}, e {(r, g, b)}.'\n",
    "    c3 = c1.brightened(x)\n",
    "    c3r, c3g, c3b = c3.get_intensity()\n",
    "    assert c3r == brighten(r, x) and c3g == brighten(g, x) and c3b == brighten(b, x), f'Cálculo errado no brightened no teste {i} com x={x}, e {(r, g, b)}.'\n",
    "    \n",
    "\n",
    "print('Todos os testes passaram!')"
   ]
  },
  {
   "cell_type": "markdown",
   "id": "f04eed2c-6bf4-4542-8a52-336ce7bc3893",
   "metadata": {},
   "source": [
    "## 5"
   ]
  },
  {
   "cell_type": "markdown",
   "id": "5e267d9b-578f-4902-baec-67099d26bc9d",
   "metadata": {},
   "source": [
    "## Nota: 1.8"
   ]
  },
  {
   "cell_type": "markdown",
   "id": "1d9bbb51-1b30-495e-b6d4-2943f735776d",
   "metadata": {},
   "source": [
    "Considere a classe completa abaixo, que faz uma representação bem simples de uma carteira (da variante que guarda dinheiro)."
   ]
  },
  {
   "cell_type": "code",
   "execution_count": 1,
   "id": "af387791-5cb5-499a-9dc5-612beeca6e23",
   "metadata": {},
   "outputs": [],
   "source": [
    "class Wallet:\n",
    "    def __init__(self, initial):\n",
    "        assert initial >= 0, 'Negative money not allowed.'\n",
    "        self._money = initial\n",
    "        \n",
    "    def get_amount(self):\n",
    "        return self._money\n",
    "    \n",
    "    def take(self, how_much):\n",
    "        assert how_much >= 0, 'Negative money not allowed.'\n",
    "        if how_much > self._money:\n",
    "            how_much = self._money\n",
    "        self._money -= how_much\n",
    "        return how_much\n",
    "    \n",
    "    def put(self, how_much):\n",
    "        assert how_much >= 0, 'Negative money not allowed.'\n",
    "        self._money += how_much"
   ]
  },
  {
   "cell_type": "markdown",
   "id": "b1d5f2cb-64cb-4da3-91a2-c7d93e694d3a",
   "metadata": {},
   "source": [
    "Com base nessa classe, crie uma classe derivada denominada `LockableWallet` que permite travar o acesso à carteira. Quer dizer, além dos métodos acima, ela terá os seguintes métodos adicionais:\n",
    "- Um método chamado `lock()`, que tranca a carteira.\n",
    "- Um método chamado `unlock()`, que destranca a carteira.\n",
    "- Um método chamado `is_locked()` que retorna `True` se a carteira está trancada e `False` caso contrário.\n",
    "\n",
    "Além disso, o comportamento da carteira é alterado da seguinte forma:\n",
    "- Ao criar uma nova `LockableWallet` passamos à classe base o valor inicial, que será colocado na carteira, e a carteira se iniciará trancada.\n",
    "- Se a carteira está destrancada, os métodos `get_amount`, `take` e `put` funcionam como na classe `Wallet`.\n",
    "- Se a carteira está trancada, o método `get_amount` retorna sempre zero, o método `take` não altera o conteúdo da carteira e retorna zero e o método `put` não altera o conteúdo da carteira (não faz nada).\n",
    "\n",
    "Use herança de tal forma que o comportamento da carteira normal seja feito pelos métodos da classe `Wallet`, enquanto o `LockableWallet` cuida apenas de verificar se a carteira está trancada e fornecer o novo comportamento para os métodos caso ela esteja trancada.\n",
    "\n",
    "Implemente a classe abaixo."
   ]
  },
  {
   "cell_type": "code",
   "execution_count": 2,
   "id": "07a6fb5b-b29a-4223-9a4f-ca3b1a207670",
   "metadata": {},
   "outputs": [],
   "source": [
    "class LockableWallet(Wallet):\n",
    "    def __init__(self,initial):\n",
    "        self._lock = True\n",
    "        self._money = initial\n",
    "        super.__init__\n",
    "        \n",
    "    def lock(self):\n",
    "        self._lock = True\n",
    "        \n",
    "    def unlock(self):\n",
    "        self._lock = False\n",
    "        \n",
    "    def is_locked(self):\n",
    "        return self._lock\n",
    "    \n",
    "    def get_amount(self):\n",
    "        if not self._lock:\n",
    "            return Wallet.get_amount(self)\n",
    "        else:\n",
    "            return 0\n",
    "    \n",
    "    def take(self,how_much):\n",
    "        if not self._lock:\n",
    "            return Wallet.take(self,how_much)\n",
    "        else:\n",
    "            return 0\n",
    "    \n",
    "    def put(self,how_much):\n",
    "        if not self._lock:\n",
    "            return Wallet.put(self,how_much)"
   ]
  },
  {
   "cell_type": "markdown",
   "id": "b641a4b7-f704-4931-b323-4f8e5408718e",
   "metadata": {},
   "source": [
    "**COMENTÁRIOS:**\n",
    "- Precisa ter chamado o `__init__` da classe base e passado o valor inicial para ele.\n",
    "- `super` é uma função e `__init__` é um método: `super().__init__(self, ...)`"
   ]
  },
  {
   "cell_type": "code",
   "execution_count": 3,
   "id": "52ee7c7b-2879-4c1c-a3bf-b233e7bc1337",
   "metadata": {},
   "outputs": [
    {
     "name": "stdout",
     "output_type": "stream",
     "text": [
      "Todos os testes passaram!\n"
     ]
    }
   ],
   "source": [
    "# Alguns testes\n",
    "lw = LockableWallet(143)\n",
    "assert lw.is_locked(), 'Carteira precisa estar inicialmente trancada'\n",
    "assert lw.get_amount() == 0, 'Carteira trancada deve retornar 0'\n",
    "lw.unlock()\n",
    "assert not lw.is_locked(), 'Carteira não destrancou'\n",
    "assert lw.get_amount() == 143, f'Quantidade de dinheiro errada. Esperado: 143, presente: {lw.get_amount()}'\n",
    "lw.lock()\n",
    "assert lw.is_locked(), 'Carteira não trancou.'\n",
    "assert lw.get_amount() == 0, 'Carteira trancada deve retornar 0'\n",
    "assert lw.take(100) == 0, 'Carteira trancada não pode permitir retirada de dinheiro.'\n",
    "\n",
    "lw.put(1000)\n",
    "assert lw.get_amount() == 0, 'Sempre retornar 0 em carteira trancada.'\n",
    "lw.unlock()\n",
    "assert lw.get_amount() == 143, 'put em carteira trancada não pode alterar dinheiro'\n",
    "\n",
    "assert (x := lw.take(100)) == 100, f'Esperava receber 100, mas recebi {x}'\n",
    "assert lw.get_amount() == 43, f'Deveria ter 43 na carteira, mas tem {lw.get_amount()}'\n",
    "\n",
    "lw.put(200)\n",
    "assert lw.get_amount() == 243, f'Depois de colocar 200 deveria ter 243, mas tem {lw.get_amount()}'\n",
    "\n",
    "y = lw.take(1000)\n",
    "assert y == 243, f'Esperava ter conseguido 243 da carteira, mas consegui {y}'\n",
    "assert lw.get_amount() == 0, f'Deveria ter sobrado 0 na carteira, mas sobrou {lw.get_amount()}'\n",
    "\n",
    "print('Todos os testes passaram!')"
   ]
  },
  {
   "cell_type": "code",
   "execution_count": null,
   "id": "2bd1f2a0-9cbc-410f-8f18-232a74b3e2fe",
   "metadata": {},
   "outputs": [],
   "source": []
  }
 ],
 "metadata": {
  "kernelspec": {
   "display_name": "Python 3 (ipykernel)",
   "language": "python",
   "name": "python3"
  },
  "language_info": {
   "codemirror_mode": {
    "name": "ipython",
    "version": 3
   },
   "file_extension": ".py",
   "mimetype": "text/x-python",
   "name": "python",
   "nbconvert_exporter": "python",
   "pygments_lexer": "ipython3",
   "version": "3.11.2"
  }
 },
 "nbformat": 4,
 "nbformat_minor": 5
}
