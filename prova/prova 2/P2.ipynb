{
 "cells": [
  {
   "attachments": {},
   "cell_type": "markdown",
   "id": "e8dcf740-18c3-426d-a595-6798d652af7f",
   "metadata": {},
   "source": [
    "# Programação Orientada a Objetos — Primeira Prova"
   ]
  },
  {
   "attachments": {},
   "cell_type": "markdown",
   "id": "e32f66c6-7f43-4c00-b7f4-1fe38c4d8b50",
   "metadata": {},
   "source": [
    "**Instruções:**\n",
    "\n",
    "- Responda às questões colocando seu código nas células indicadas, substituindo o `pass` quando presente.\n",
    "- Quando terminar, basta salvar o notebook com as suas edições (usando CNTRL-S ou pelo menu File > Save Notebook) e desligar o computador.\n",
    "- **Não coloque o seu nome no notebook nem altere o nome de arquivo do notebook**. A distinção entre as entregas dos diversos alunos será feita pela tira de papel com informações de login e senha, na qual você deve colocar seu nome e entregar ao professor antes de sair da sala.\n",
    "- Teste seu código rodando as células de teste presentes imediatamente após a célula da resposta. **Não altere o código das células de teste**. Se quiser fazer outro tipo de teste, crie uma nova célula. \n",
    "- Quando estiver satisfeito com seu código, lembre-se de retirar qualquer coisa que tenha colocado para seu desenvolvimento e não seja necessária (como código não mais em uso, chamadas a `print` para acompanhar a execução, novas células de teste que você tenha criado ou qualuquer código na célula de resposta que não seja parte do que foi pedido).\n",
    "- Lembre-se de que você não precisa entender os códigos de teste. Mas às vezes pode ser útil ler os códigos de teste para entender melhor o que se pede. Portanto, se não entende algo de algum código de teste, não perca tempo com isso.\n",
    "\n",
    "**Boa sorte**"
   ]
  },
  {
   "attachments": {},
   "cell_type": "markdown",
   "id": "356ce783-d673-49aa-a878-204dc23bdf46",
   "metadata": {},
   "source": [
    "## 1"
   ]
  },
  {
   "attachments": {},
   "cell_type": "markdown",
   "id": "55aab94f",
   "metadata": {},
   "source": [
    "## Nota: 1.75\n",
    "\n",
    "- `__init__` não pode ser abstrato (e certamente não é nesta classe)."
   ]
  },
  {
   "attachments": {},
   "cell_type": "markdown",
   "id": "d6ac1f72-243b-44c3-a849-d1b873dc21dc",
   "metadata": {},
   "source": [
    "Analise o código das classes implementadas na célula abaixo."
   ]
  },
  {
   "cell_type": "code",
   "execution_count": 93,
   "id": "fa6c5b66-f308-4d8a-bc65-7e3ba4e58d04",
   "metadata": {},
   "outputs": [],
   "source": [
    "from typing import Any\n",
    "\n",
    "class Container:\n",
    "    def __init__(self):\n",
    "        self._data: list[Any] = []\n",
    "\n",
    "    def is_empty(self) -> bool:\n",
    "        return len(self._data) == 0\n",
    "    \n",
    "    def put(self, v: Any) -> None:\n",
    "        pass\n",
    "\n",
    "    def get(self) -> Any:\n",
    "        pass\n",
    "\n",
    "\n",
    "class Stack(Container):\n",
    "    def put(self, v: Any) -> None:\n",
    "        self._data.append(v)\n",
    "\n",
    "    def get(self) -> Any:\n",
    "        return self._data.pop()\n",
    "    \n",
    "\n",
    "class Queue(Container):\n",
    "    def put(self, v: Any) -> None:\n",
    "        self._data.append(v)\n",
    "\n",
    "    def get(self) -> Any:\n",
    "        return self._data.pop(0)\n",
    "    "
   ]
  },
  {
   "attachments": {},
   "cell_type": "markdown",
   "id": "dc3cd383",
   "metadata": {},
   "source": [
    "Nesse código, claramente a classe `Container` é uma classe base abstrata. Na célula abaixo, reescreva o código acima, mas usando o módulo `abc` para claramente marcar a classe `Container` como abstrata. Faça todas as marcações necessárias."
   ]
  },
  {
   "cell_type": "code",
   "execution_count": 141,
   "id": "219d28a1-6488-48ad-a2d7-496723c0e657",
   "metadata": {},
   "outputs": [],
   "source": [
    "from typing import Any\n",
    "from abc import ABC\n",
    "from abc import abstractmethod\n",
    "\n",
    "class Container(ABC):\n",
    "    @abstractmethod\n",
    "    def __init__(self):\n",
    "        self._data: list[Any] = []\n",
    "\n",
    "    def is_empty(self) -> bool:\n",
    "        return len(self._data) == 0\n",
    "    \n",
    "    @abstractmethod\n",
    "    def put(self, v: Any) -> None:\n",
    "        pass\n",
    "    \n",
    "    @abstractmethod\n",
    "    def get(self) -> Any:\n",
    "        pass\n",
    "\n",
    "\n",
    "class Stack(Container):\n",
    "    def put(self, v: Any) -> None:\n",
    "        self._data.append(v)\n",
    "\n",
    "    def get(self) -> Any:\n",
    "        return self._data.pop()\n",
    "    \n",
    "\n",
    "class Queue(Container):\n",
    "    def put(self, v: Any) -> None:\n",
    "        self._data.append(v)\n",
    "\n",
    "    def get(self) -> Any:\n",
    "        return self._data.pop(0)"
   ]
  },
  {
   "attachments": {},
   "cell_type": "markdown",
   "id": "3985b235-f006-4151-9d1f-6cbd570d7c51",
   "metadata": {},
   "source": [
    "## 2"
   ]
  },
  {
   "attachments": {},
   "cell_type": "markdown",
   "id": "10433795",
   "metadata": {},
   "source": [
    "## Nota: 1.0\n",
    "\n",
    "- Ao invés de `__iadd__` deveria ser `__radd__`.\n",
    "- Para testar tipo, use `isinstance(x, T)` ao invés de `type(x) == T`, pois a primeira forma funciona com herança, a segunda não.\n",
    "- Faltou o `__rmul__`."
   ]
  },
  {
   "attachments": {},
   "cell_type": "markdown",
   "id": "6ed7a979-6d8b-4602-a435-08151b1afbba",
   "metadata": {},
   "source": [
    "Uma distribuição gaussiana é caracterizada por dois parâmetros: a média e o desvio padrão.  Representamos uma gaussiana de média $\\mu$ e desvio padrão $\\sigma$ por $G(\\mu, \\sigma)$. Quando fazemos operações com distribuições gaussianas, as seguintes regras se aplicam:\n",
    "\n",
    "- $a + G(\\mu, \\sigma) = G(\\mu, \\sigma) + a = G(a + \\mu, \\sigma)$.\n",
    "- $a G(\\mu, \\sigma) = G(\\mu, \\sigma) a = G(a\\mu, a\\sigma)$.\n",
    "- $G(\\mu_1, \\sigma_1) + G(\\mu_2, \\sigma_2) = G(\\mu_1 + \\mu_2, \\sqrt{\\sigma_1^2 + \\sigma_2^2})$\n",
    "\n",
    "Na célula abaixo, implemente a classe `Gaussian` usando sobrecarga de operadores de forma a garantir que as operações indicadas acima funcionem. Não é necessário implementar outras operações aritméticas, mas você deve implementar o `__init__` para criar o objeto dados a média e o desvio padrão, nessa ordem, um operador de comparação que diz duas gaussianas são iguais se suas médias e desvio padrão são iguais, um método chamado `mean` para retornar a média e um método chamado `std` para retornar o desvio padrão."
   ]
  },
  {
   "cell_type": "code",
   "execution_count": 1,
   "id": "79aa448b-8433-47d5-badc-7504eac14c64",
   "metadata": {},
   "outputs": [],
   "source": [
    "# Implemente sua classe aqui.\n",
    "from math import hypot\n",
    "class Gaussian():\n",
    "    def __init__(self,media,desvio):\n",
    "        self._media = media\n",
    "        self._desvio = desvio\n",
    "        \n",
    "    def __eq__(self,other):\n",
    "        if  self._media == other.mean and self._desvio == other.std:\n",
    "            return True\n",
    "        else:\n",
    "            return False\n",
    "    \n",
    "    def __add__(self,plus):\n",
    "        if type(plus) == 'Gaussian':\n",
    "            return Gaussian( self._media + plus.mean, hypot(self._desvio,plus.std) )\n",
    "        else:\n",
    "            return Gaussian(self._media + plus, self._desvio)\n",
    "    \n",
    "    def __iadd__(self,plus):\n",
    "        if type(plus) == 'Gaussian':\n",
    "            return Gaussian( self._media + plus.mean, hypot(self._desvio,plus.std) )\n",
    "        else:\n",
    "            return Gaussian(self._media + plus, self._desvio)\n",
    "        \n",
    "    def __mul__(self,mul):\n",
    "        return Gaussian(self._media*mul,self._desvio*mul)\n",
    "    \n",
    "    def mean(self):\n",
    "        return self._media\n",
    "    \n",
    "    def std(self):\n",
    "        return self._desvio"
   ]
  },
  {
   "cell_type": "code",
   "execution_count": 2,
   "id": "074d2ed6-5417-47b8-a0db-ee2a88adb5cf",
   "metadata": {},
   "outputs": [
    {
     "ename": "TypeError",
     "evalue": "unsupported operand type(s) for +: 'float' and 'Gaussian'",
     "output_type": "error",
     "traceback": [
      "\u001b[0;31m---------------------------------------------------------------------------\u001b[0m",
      "\u001b[0;31mTypeError\u001b[0m                                 Traceback (most recent call last)",
      "Cell \u001b[0;32mIn[2], line 22\u001b[0m\n\u001b[1;32m     19\u001b[0m \u001b[39massert\u001b[39;00m isclose(ag\u001b[39m.\u001b[39mmean(), a \u001b[39m+\u001b[39m m1), \u001b[39m'\u001b[39m\u001b[39mValor da média na soma com escalar à direita errado.\u001b[39m\u001b[39m'\u001b[39m\n\u001b[1;32m     20\u001b[0m \u001b[39massert\u001b[39;00m isclose(ag\u001b[39m.\u001b[39mstd(), d1), \u001b[39m'\u001b[39m\u001b[39mValor do desvio padrão na soma com escalar à direita errado.\u001b[39m\u001b[39m'\u001b[39m\n\u001b[0;32m---> 22\u001b[0m ag \u001b[39m=\u001b[39m a \u001b[39m+\u001b[39;49m g1\n\u001b[1;32m     23\u001b[0m \u001b[39massert\u001b[39;00m \u001b[39misinstance\u001b[39m(ag, Gaussian), \u001b[39m'\u001b[39m\u001b[39mSoma com escalar à esquerda não está retornando tipo correto.\u001b[39m\u001b[39m'\u001b[39m\n\u001b[1;32m     24\u001b[0m \u001b[39massert\u001b[39;00m isclose(ag\u001b[39m.\u001b[39mmean(), a \u001b[39m+\u001b[39m m1), \u001b[39m'\u001b[39m\u001b[39mValor da média na soma com escalar à esquerda errado.\u001b[39m\u001b[39m'\u001b[39m\n",
      "\u001b[0;31mTypeError\u001b[0m: unsupported operand type(s) for +: 'float' and 'Gaussian'"
     ]
    }
   ],
   "source": [
    "# Códigos de teste.\n",
    "from math import isclose, hypot\n",
    "from random import random\n",
    "\n",
    "g1 = Gaussian(0, 1)\n",
    "assert isinstance(g1, Gaussian), 'Erro estranho na criação.'\n",
    "assert g1.mean() == 0, 'Média errada'\n",
    "assert g1.std() == 1, 'Desvio padrão errado'\n",
    "\n",
    "for i in range(100):\n",
    "    m1 = 10 * random()\n",
    "    d1 = 5 * random()\n",
    "    g1 = Gaussian(m1, d1)\n",
    "    \n",
    "    a = 2 * random()\n",
    "    \n",
    "    ag = g1 + a\n",
    "    assert isinstance(ag, Gaussian), 'Soma com escalar à direita não está retornando tipo correto.'\n",
    "    assert isclose(ag.mean(), a + m1), 'Valor da média na soma com escalar à direita errado.'\n",
    "    assert isclose(ag.std(), d1), 'Valor do desvio padrão na soma com escalar à direita errado.'\n",
    "    \n",
    "    ag = a + g1\n",
    "    assert isinstance(ag, Gaussian), 'Soma com escalar à esquerda não está retornando tipo correto.'\n",
    "    assert isclose(ag.mean(), a + m1), 'Valor da média na soma com escalar à esquerda errado.'\n",
    "    assert isclose(ag.std(), d1), 'Valor do desvio padrão na soma com escalar à esquerda errado.'\n",
    "    \n",
    "    ag = g1 * a\n",
    "    assert isinstance(ag, Gaussian), 'Produto com escalar à direita não está retornando tipo correto.'\n",
    "    assert isclose(ag.mean(), a * m1), 'Valor da média no produto com escalar à direita errado.'\n",
    "    assert isclose(ag.std(), a * d1), 'Valor do desvio padrão no produto com escalar à direita errado.'\n",
    "    \n",
    "    ag = a * g1\n",
    "    assert isinstance(ag, Gaussian), 'Produto com escalar à esquerda não está retornando tipo correto.'\n",
    "    assert isclose(ag.mean(), a * m1), 'Valor da média no produto com escalar à esquerda errado.'\n",
    "    assert isclose(ag.std(), a * d1), 'Valor do desvio padrão no produto com escalar à esquerda errado.'\n",
    "\n",
    "    m2 = 3 * random()\n",
    "    d2 = 2 * random()\n",
    "    g2 = Gaussian(m2, d2)\n",
    "\n",
    "    gg = g1 + g2\n",
    "    assert isinstance(gg, Gaussian), 'Soma de duas gaussianas não está retornando tipo correto.'\n",
    "    assert isclose(gg.mean(), m1 + m2), 'Valor da média na soma de gaussianas errado.'\n",
    "    assert isclose(gg.std(),  hypot(d1, d2)), 'Valor do desvio padrão na soma de gaussianas errado.'\n",
    "\n",
    "print('Todos os teste passaram!')"
   ]
  },
  {
   "attachments": {},
   "cell_type": "markdown",
   "id": "3201c60f-ca66-4aea-80d0-f6c19937ed23",
   "metadata": {},
   "source": [
    "## 3"
   ]
  },
  {
   "attachments": {},
   "cell_type": "markdown",
   "id": "24a165f9",
   "metadata": {},
   "source": [
    "## Nota: 2.0"
   ]
  },
  {
   "attachments": {},
   "cell_type": "markdown",
   "id": "acbda416-638e-46af-863a-05318ca440db",
   "metadata": {},
   "source": [
    "Na célula abaixo, implemente um classe de objetos funcionais denominada `Polynomial` que funciona da seguinte forma:\n",
    "\n",
    "- Quando criamos um objeto da classe, fornecemos uma lista de valores, que são interpretados da seguinte forma: o primeiro elemento é o valor constante do polinômio, o segundo é o valor que multiplica $x$, o terceiro é o valor que multiplica $x^2$, e assim por diante.\n",
    "- Dado um objeto dessa classe, se o usamos para chamada de função passando um valor $x$ como parâmetro, ele retorna o valor do polinômio para esse valor de $x$.\n",
    "\n",
    "Por exemplo:\n",
    "```python\n",
    "p1 = Polinomial([3, 2, 1])\n",
    "y1 = p1(2)\n",
    "y2 = p1(0.1)\n",
    "print(y1, y2)\n",
    "```\n",
    "\n",
    "Iria imprimir:\n",
    "```\n",
    "11 3.21\n",
    "```"
   ]
  },
  {
   "cell_type": "code",
   "execution_count": 1,
   "id": "8aa39496-a257-4f32-9271-74c2c4b9b4db",
   "metadata": {},
   "outputs": [],
   "source": [
    "# Implemente sua classe aquil.\n",
    "class Polinomial:\n",
    "    def __init__(self,*args,**kargs):\n",
    "        self._polinomio = args[0]\n",
    "        \n",
    "    def __call__(self,value):\n",
    "        valorf = 0\n",
    "        pot = 0\n",
    "        for poli in self._polinomio:\n",
    "            valorf += (value**(pot))*poli\n",
    "            pot += 1\n",
    "        return valorf"
   ]
  },
  {
   "cell_type": "code",
   "execution_count": 2,
   "id": "7f4f8414-703e-4d7b-aba7-f8f379da4945",
   "metadata": {},
   "outputs": [
    {
     "name": "stdout",
     "output_type": "stream",
     "text": [
      "Todos os teste passaram!\n"
     ]
    }
   ],
   "source": [
    "# Código de teste\n",
    "from random import random, randint\n",
    "\n",
    "p1 = Polinomial([1])\n",
    "assert p1(0) == 1, 'Valor errado para polinômio constante 1 com x=0.'\n",
    "assert p1(100) == 1, 'Valor errado para polinômio constante 1 com x=100.'\n",
    "\n",
    "p2 = Polinomial([0, 1])\n",
    "assert p2(0) == 0, 'Valor errado para polinômio identidade com x = 0.'\n",
    "assert p2(100) == 100, 'Valor errado para polinômio identidade com x = 100.'\n",
    "\n",
    "for i in range(100):\n",
    "    n = randint(1, 10)\n",
    "    coeff = [10 * random() for _ in range(n)]\n",
    "    p = Polinomial(coeff)\n",
    "    x = random()\n",
    "    assert p(x) == sum(c * x ** i for i, c in enumerate(coeff))\n",
    "\n",
    "print('Todos os teste passaram!')"
   ]
  },
  {
   "attachments": {},
   "cell_type": "markdown",
   "id": "461f09bf-8e9f-497e-ab22-bc3dbf5a83fc",
   "metadata": {},
   "source": [
    "## 4"
   ]
  },
  {
   "attachments": {},
   "cell_type": "markdown",
   "id": "fd3763ce",
   "metadata": {},
   "source": [
    "## Nota: 2.0"
   ]
  },
  {
   "attachments": {},
   "cell_type": "markdown",
   "id": "a80ea7d2-2df8-4ff6-a129-4bb1e5fdb86e",
   "metadata": {},
   "source": [
    "Analise o código da classe implementada abaixo."
   ]
  },
  {
   "cell_type": "code",
   "execution_count": 41,
   "id": "7caceeaa-04eb-4ffd-82ba-4db223e346fb",
   "metadata": {},
   "outputs": [],
   "source": [
    "class OrderedPair:\n",
    "    '''Keeps two values, with first <= second.'''\n",
    "\n",
    "    def __init__(self, a, b):\n",
    "        '''Create an object with values a and b in the correct order.'''\n",
    "        if a > b:\n",
    "            a, b = b, a\n",
    "        self._first = a\n",
    "        self._second = b\n",
    "\n",
    "    def get_first(self):\n",
    "        '''Get the smaller value.'''\n",
    "        return self._first\n",
    "    \n",
    "    def get_second(self):\n",
    "        '''Get the larger value.'''\n",
    "        return self._second\n",
    "    \n",
    "    def change_first(self, x):\n",
    "        '''Change the smaller value and adjust order if needed.'''\n",
    "        if x <= self._second:\n",
    "            self._first = x\n",
    "        else:\n",
    "            self._first = self._second\n",
    "            self._second = x\n",
    "\n",
    "    def change_second(self, x):\n",
    "        '''Change the second value and adjust order if needed.'''\n",
    "        if x >= self._first:\n",
    "            self._second = x\n",
    "        else:\n",
    "            self._second = self._first\n",
    "            self._first = x"
   ]
  },
  {
   "attachments": {},
   "cell_type": "markdown",
   "id": "375f6f30",
   "metadata": {},
   "source": [
    "O uso dessa classe é complicado, pela necessidade de ficar usando os métodos de acesso `get_*` e `set_*`.\n",
    "Reescreva na célula abaixo esse código com a ajuda do **decorador** `@property` para que `first` e `second` possam ser acessados como propriedades, mas mantendo o invariante da classe de que o primeiro é sempre menor do que o segundo. Veja o código de teste abaixo para qualquer dúvida sobre o uso esperado da sua classe."
   ]
  },
  {
   "cell_type": "code",
   "execution_count": 3,
   "id": "e045d4f6",
   "metadata": {},
   "outputs": [],
   "source": [
    "# Defina a nova versão da classe aqui.\n",
    "class OrderedPair:\n",
    "    '''Keeps two values, with first <= second.'''\n",
    "\n",
    "    def __init__(self, a, b):\n",
    "        '''Create an object with values a and b in the correct order.'''\n",
    "        if a > b:\n",
    "            a, b = b, a\n",
    "        self._first = a\n",
    "        self._second = b\n",
    "\n",
    "    @property\n",
    "    def first(self):\n",
    "        '''Get the smaller value.'''\n",
    "        return self._first\n",
    "    \n",
    "    @property\n",
    "    def second(self):\n",
    "        '''Get the larger value.'''\n",
    "        return self._second\n",
    "    \n",
    "    @first.setter\n",
    "    def first(self, x):\n",
    "        '''Change the smaller value and adjust order if needed.'''\n",
    "        if x <= self._second:\n",
    "            self._first = x\n",
    "        else:\n",
    "            self._first = self._second\n",
    "            self._second = x\n",
    "            \n",
    "    @second.setter\n",
    "    def second(self, x):\n",
    "        '''Change the second value and adjust order if needed.'''\n",
    "        if x >= self._first:\n",
    "            self._second = x\n",
    "        else:\n",
    "            self._second = self._first\n",
    "            self._first = x\n"
   ]
  },
  {
   "cell_type": "code",
   "execution_count": 4,
   "id": "10d9d178-b0a3-48bb-88ef-f0087f80d7fc",
   "metadata": {},
   "outputs": [
    {
     "name": "stdout",
     "output_type": "stream",
     "text": [
      "Todos os testes passaram!\n"
     ]
    }
   ],
   "source": [
    "# Código de teste\n",
    "\n",
    "op1 = OrderedPair(1, 2)\n",
    "op2 = OrderedPair(2, 1)\n",
    "assert op1.first == op2.first and op1.second == op2.second, 'Problemas na criação consistente.'\n",
    "\n",
    "op1.first = 1.5\n",
    "assert op1.first == 1.5 and op1.second == 2, 'Problemas na alteração de first.'\n",
    "op1.second = 5\n",
    "assert op1.first == 1.5 and op1.second == 5, 'Problemas na alteração de second.'\n",
    "\n",
    "op2.first = 3\n",
    "assert op2.first == 2 and op2.second == 3, 'Problemas na alteração consistente de first.'\n",
    "op2.second = -1\n",
    "assert op2.first == -1 and op2.second == 2, 'Problemas na lateração consistente de second.'\n",
    "\n",
    "print('Todos os testes passaram!')"
   ]
  },
  {
   "attachments": {},
   "cell_type": "markdown",
   "id": "f04eed2c-6bf4-4542-8a52-336ce7bc3893",
   "metadata": {},
   "source": [
    "## 5"
   ]
  },
  {
   "attachments": {},
   "cell_type": "markdown",
   "id": "3199c2d9",
   "metadata": {},
   "source": [
    "## Nota: 0.25\n",
    "\n",
    "- Se você põe um `try` em volta de tudo, no primeiro erro a execução termina.\n",
    "- A sintaxe do uso de `try/except` está errada."
   ]
  },
  {
   "attachments": {},
   "cell_type": "markdown",
   "id": "1d9bbb51-1b30-495e-b6d4-2943f735776d",
   "metadata": {},
   "source": [
    "O código da célula abaixo tenta ler uma \"tabela\" representada na cadeia de caracteres `TABLE` criando uma lista de listas com os valores. "
   ]
  },
  {
   "cell_type": "code",
   "execution_count": null,
   "id": "af387791-5cb5-499a-9dc5-612beeca6e23",
   "metadata": {},
   "outputs": [],
   "source": [
    "TABLE='''\n",
    "68.1 | 3.37 | 0.46\n",
    "30.0 | 0.33 | xyz\n",
    "79.2 | 0.69 | 2.68\n",
    "86.4 | 6.02 | 3.00 | 1.56\n",
    "26.4 | 10.00 | 2.93\n",
    "27.3 | 1.61 | 0.21\n",
    "'''\n",
    "\n",
    "lines = TABLE.strip().split('\\n')\n",
    "table_values = []\n",
    "for line in lines:\n",
    "    line_values = [float(cell.strip()) for cell in line.split('|')]\n",
    "    table_values.append(line_values)\n",
    "print(table_values)"
   ]
  },
  {
   "attachments": {},
   "cell_type": "markdown",
   "id": "153d0ab4",
   "metadata": {},
   "source": [
    "Entretanto, o código não está lidando apropriadamente com erros. Na célula abaixo, reescreva o código para considerar os seguintes possíveis erros:\n",
    "- Se o valor dentro de uma posição da tabela não for um valor de ponto flutuante válido, deve ser impressa uma mensage do tipo \"Format error at line 2, column 3\", e o valor nessa posição deve ser colocado em zero.\n",
    "- Se uma linha da tabela tiver menos ou mais do que 3 colunas, essa linha deve ser descartada, depois de escrever uma mensagem do tipo \"Table format error at line 4\".\n",
    "(As contagens nas mensagens acima devem ser naturais, isto é, partindo de 1.)\n",
    "\n",
    "**Dica:**\n",
    "\n",
    "A saída esperada para o processamento de `TABLE` é:\n",
    "\n",
    "```\n",
    "Format error at line 2, column 3.\n",
    "Table format error at line 4\n",
    "[[68.1, 3.37, 0.46], [30.0, 0.33, 0], [79.2, 0.69, 2.68], [26.4, 10.0, 2.93], [27.3, 1.61, 0.21]]\n",
    "```"
   ]
  },
  {
   "cell_type": "code",
   "execution_count": 5,
   "id": "9c3745dc",
   "metadata": {},
   "outputs": [
    {
     "name": "stdout",
     "output_type": "stream",
     "text": [
      "Table format error at line 2\n",
      "Table format error at line 2 column 3\n"
     ]
    }
   ],
   "source": [
    "# Seu código reescrito aqui.\n",
    "TABLE='''\n",
    "68.1 | 3.37 | 0.46\n",
    "30.0 | 0.33 | xyz\n",
    "79.2 | 0.69 | 2.68\n",
    "86.4 | 6.02 | 3.00 | 1.56\n",
    "26.4 | 10.00 | 2.93\n",
    "27.3 | 1.61 | 0.21\n",
    "'''\n",
    "try:\n",
    "    lines = TABLE.strip().split('\\n')\n",
    "    table_values = []\n",
    "    linha = 1\n",
    "    for line in lines:\n",
    "        line_values = []\n",
    "        coluna = 1\n",
    "        for cell in line.split('|'):\n",
    "            try:\n",
    "                line_values.append(float(cell.strip()))\n",
    "            except:\n",
    "                raise StopIteration()\n",
    "            coluna += 1\n",
    "        if len(line_values) != 3:\n",
    "            raise ValueError()\n",
    "        table_values.append(line_values)\n",
    "        linha += 1\n",
    "    print(table_values)\n",
    "except:\n",
    "    if StopIteration:\n",
    "        print(\"Table format error at line\",linha)\n",
    "    if ValueError:\n",
    "        print(\"Table format error at line\",linha,\"column\",coluna)"
   ]
  },
  {
   "cell_type": "code",
   "execution_count": 6,
   "id": "dcd31e35-ef04-485d-a74d-5400d768546b",
   "metadata": {},
   "outputs": [
    {
     "name": "stdout",
     "output_type": "stream",
     "text": [
      "[[68.1, 3.37, 0.46]]\n"
     ]
    }
   ],
   "source": [
    "print(table_values)"
   ]
  },
  {
   "cell_type": "code",
   "execution_count": null,
   "id": "e943fc24-2b43-42d7-9509-eaa8d03e7a40",
   "metadata": {},
   "outputs": [],
   "source": []
  }
 ],
 "metadata": {
  "kernelspec": {
   "display_name": "Python 3 (ipykernel)",
   "language": "python",
   "name": "python3"
  },
  "language_info": {
   "codemirror_mode": {
    "name": "ipython",
    "version": 3
   },
   "file_extension": ".py",
   "mimetype": "text/x-python",
   "name": "python",
   "nbconvert_exporter": "python",
   "pygments_lexer": "ipython3",
   "version": "3.11.2"
  }
 },
 "nbformat": 4,
 "nbformat_minor": 5
}
