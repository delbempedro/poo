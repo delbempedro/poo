{
 "cells": [
  {
   "cell_type": "markdown",
   "id": "e8dcf740-18c3-426d-a595-6798d652af7f",
   "metadata": {},
   "source": [
    "# Programação Orientada a Objetos — Prova Substitutiva"
   ]
  },
  {
   "cell_type": "markdown",
   "id": "e32f66c6-7f43-4c00-b7f4-1fe38c4d8b50",
   "metadata": {},
   "source": [
    "**Instruções:**\n",
    "\n",
    "- Responda às questões colocando seu código nas células indicadas.\n",
    "- Quando terminar, basta salvar o notebook com as suas edições (usando CNTRL-S ou pelo menu File > Save Notebook) e desligar o computador.\n",
    "- **Não inclua seu nome no notebook e não altere o nome do arquivo do notebook**. A diferenciação entre as entregas dos vários alunos será feita por meio de uma tira de papel contendo informações de login e senha. Você deve colocar seu nome nessa tira de papel e entregá-la ao professor antes de sair da sala.\n",
    "- Execute as células de teste presentes imediatamente após a célula da resposta para testar o código. **Não faça alterações no código das células de teste**. Se desejar realizar outros tipos de testes, crie uma nova célula.\n",
    "- Após concluir o desenvolvimento do seu código, lembre-se de remover qualquer elemento que tenha adicionado para o processo de desenvolvimento e que não seja necessário, como código não utilizado, chamadas de impressão para acompanhar a execução, novas células de teste que você tenha criado ou qualquer código na célula de resposta que não faça parte do requisitado.\n",
    "- Lembre-se de que você não precisa entender os códigos de teste, mas isto pode ser ocasiionalmente útil para entender melhor o que se pede. Não perca tempo se o código de teste for difícil de entender.\n",
    "\n",
    "**Boa sorte**"
   ]
  },
  {
   "cell_type": "markdown",
   "id": "356ce783-d673-49aa-a878-204dc23bdf46",
   "metadata": {},
   "source": [
    "## 1"
   ]
  },
  {
   "cell_type": "markdown",
   "id": "f9116411",
   "metadata": {},
   "source": [
    "## Nota: 2.0"
   ]
  },
  {
   "cell_type": "markdown",
   "id": "d6ac1f72-243b-44c3-a849-d1b873dc21dc",
   "metadata": {},
   "source": [
    "Escreva uma função denominada `first_sign_change` que recebe uma lista de valores e retorna o índice do primeiro valor que tem sinal diferente dos valores anteriores. A função também tem um parâmetro opcional que é o primeiro índice a partir do qual a procura deve ser feita. Se esse parâmetro opcional não for especificado, a busca deve ser feita do começo da lista. Se não houver mudança de sinal na lista, a função deve retornar -1.\n",
    "\n",
    "**Nota:** Para esta função, considere o zero como nem positivo nem negativo.\n",
    "\n",
    "Veja alguns exemplos abaixo:\n",
    "\n",
    "1. `first_sign_change([-2, -1, -4, 3, -1, 7])` retorna 3.\n",
    "2. `first_sign_change([2, -1, 4])` retorna 1.\n",
    "3. `first_sign_change([-1, 2, 3])` retorna 1.\n",
    "4. `first_sign_chage([10, 12, 23.4, 38.5])` retorna -1\n",
    "5.  `first_sign_change([103.3])` retorna -1\n",
    "6.  `first_sign_change([])` retorna -1\n",
    "7.  `first_sign_change([-2, -1, -4, 3, -1, 7], 3)` retorna 4\n",
    "8.  `first_sign_change([1, 2, 0, 4, 5])` retorna 2\n",
    "9.  `first_sign_change([0, 0, 0, 0, 0, -1, 1])` retorna 5\n",
    "10.  `first_sign_change([0, 3, -5, 4])` retorna 1\n",
    "11.  `first_sign_change([0, 3, -5, 4], 1)` retorna 2\n",
    "12.  `first_sign_change([0, 3, -5, 4], 3)` retorna -1"
   ]
  },
  {
   "cell_type": "code",
   "execution_count": 66,
   "id": "fa6c5b66-f308-4d8a-bc65-7e3ba4e58d04",
   "metadata": {},
   "outputs": [],
   "source": [
    "# Coloque seu código aqui.\n",
    "def first_sign_change(lista,*args,**kargs):\n",
    "    if len(lista):\n",
    "        \n",
    "        new = sinal(lista[0])\n",
    "        if len(args): \n",
    "\n",
    "            for i in range(args[0],len(lista)-1):\n",
    "\n",
    "                if new != sinal(lista[i]):\n",
    "                    return i + 1\n",
    "                new = sinal(lista[i])\n",
    "\n",
    "            return -1\n",
    "        else:\n",
    "            \n",
    "            for i in range(len(lista)-1):\n",
    "                \n",
    "                if new != sinal(lista[i]):\n",
    "                    return i\n",
    "                new = sinal(lista[i])\n",
    "\n",
    "            return -1\n",
    "    else:\n",
    "        return -1\n",
    "\n",
    "def sinal(x):\n",
    "    if x > 0:\n",
    "        return 1\n",
    "    elif x < 0:\n",
    "        return - 1\n",
    "    else:\n",
    "        return 0"
   ]
  },
  {
   "cell_type": "code",
   "execution_count": 67,
   "id": "58c7ac29-3bd3-4873-91d6-cebb89b5a16a",
   "metadata": {},
   "outputs": [
    {
     "name": "stdout",
     "output_type": "stream",
     "text": [
      "Todos os testes passaram.\n"
     ]
    }
   ],
   "source": [
    "# Alguns testes\n",
    "\n",
    "# Exemplos\n",
    "assert first_sign_change([-2, -1, -4, 3, -1, 7]) == 3, 'Erro no exemplo 1'\n",
    "assert first_sign_change([2, -1, 4]) == 1, 'Erro no exemplo 2'\n",
    "assert first_sign_change([-1, 2, 3]) == 1, 'Erro no exemplo 3'\n",
    "assert first_sign_change([10, 12, 23.4, 38.5]), 'Erro no exemplo 4'\n",
    "assert first_sign_change([103.3]) == -1, 'Erro no exemplo 5'\n",
    "assert first_sign_change([]) == -1, 'Erro no exemplo 6'\n",
    "assert first_sign_change([-2, -1, -4, 3, -1, 7], 3) == 4, 'Erro no exemplo 7'\n",
    "assert first_sign_change([1, 2, 0, 4, 5]) == 2, 'Erro no exemplo 8'\n",
    "assert first_sign_change([0, 0, 0, 0, 0, -1, 1]) == 5, 'Erro no exemplo 9'\n",
    "assert first_sign_change([0, 3, -5, 4]) == 1, 'Erro no exemplo 10'\n",
    "assert first_sign_change([0, 3, -5, 4], 1) == 2, 'Erro no exemplo 11'\n",
    "assert first_sign_change([0, 3, -5, 4], 3) == -1, 'Erro no exemplo 12'\n",
    "\n",
    "print('Todos os testes passaram.')"
   ]
  },
  {
   "cell_type": "markdown",
   "id": "3985b235-f006-4151-9d1f-6cbd570d7c51",
   "metadata": {},
   "source": [
    "## 2"
   ]
  },
  {
   "cell_type": "markdown",
   "id": "db22b6de",
   "metadata": {},
   "source": [
    "## Nota: 2.0"
   ]
  },
  {
   "cell_type": "markdown",
   "id": "6ed7a979-6d8b-4602-a435-08151b1afbba",
   "metadata": {},
   "source": [
    "A sequência de Fibonacci é definida pela recorrência:\n",
    "$$f_n = f_{n-1} + f_{n-2}, \\quad \\mbox{para}\\  n\\ge 2,$$\n",
    "e com $f_0 = f_1 = 1$.\n",
    "\n",
    "Considere a sequência definida por\n",
    "$$q_n = f_{n+1}/f_n, \\quad n\\ge 0.$$\n",
    "\n",
    "Escreva uma **função geradora** denominada `fib_ratio` que aceita um parâmetro `m` e seu gerador retorna sucessivamente os `m` primeiros valores de $q_n$ em ordem.\n",
    "\n",
    "Por exemplo `list(fib_ratio(5))` retorna `[1.0, 2.0, 1.5, 1.6666666666666667, 1.6]`."
   ]
  },
  {
   "cell_type": "code",
   "execution_count": 1,
   "id": "79aa448b-8433-47d5-badc-7504eac14c64",
   "metadata": {},
   "outputs": [],
   "source": [
    "# Coloque seu código aqui.\n",
    "def fib_ratio(m):\n",
    "    if m:\n",
    "        fn = 1 #n\n",
    "        yield fn\n",
    "        fN = 2 #n+1\n",
    "        yield fN\n",
    "        for i in range(m-2):\n",
    "            aux = fN\n",
    "            fN += fn\n",
    "            fn = aux\n",
    "            yield fN/fn\n",
    "    "
   ]
  },
  {
   "cell_type": "code",
   "execution_count": 2,
   "id": "074d2ed6-5417-47b8-a0db-ee2a88adb5cf",
   "metadata": {},
   "outputs": [
    {
     "name": "stdout",
     "output_type": "stream",
     "text": [
      "Todos os teste passaram.\n"
     ]
    }
   ],
   "source": [
    "# Códigos de teste.\n",
    "from math import isclose\n",
    "\n",
    "n = 20\n",
    "fibs = [1, 1]\n",
    "for i in range(2, n+1):\n",
    "    fibs.append(fibs[i-1]+fibs[i-2])\n",
    "\n",
    "your_qs = fib_ratio(n)\n",
    "for i in range(n):\n",
    "    assert isclose(next(your_qs), fibs[i+1]/fibs[i]), f'Valor errado na posição {i}'\n",
    "assert list(your_qs) == [], 'Seu gerador deveria estar vazio'\n",
    "\n",
    "assert list(fib_ratio(0)) == [], 'Nenhum valor deveria ter sido gerado'\n",
    "\n",
    "print('Todos os teste passaram.')"
   ]
  },
  {
   "cell_type": "markdown",
   "id": "3201c60f-ca66-4aea-80d0-f6c19937ed23",
   "metadata": {},
   "source": [
    "## 3"
   ]
  },
  {
   "cell_type": "markdown",
   "id": "dd901bfb",
   "metadata": {},
   "source": [
    "## Nota: 1.5"
   ]
  },
  {
   "cell_type": "markdown",
   "id": "acbda416-638e-46af-863a-05318ca440db",
   "metadata": {},
   "source": [
    "Escreva uma classe para objetos que guardam os três maiores valores fornecidos a eles, sem repetição. Os detalhes seguem:\n",
    "\n",
    "- A classe deve se chamar `ThreeLargest`.\n",
    "- Criamos um objeto sem passar nenhum parâmetro para a inicialização.\n",
    "- O método `put(x)` insere o valor `x` se ele for um dos maiores e ainda não tiver sido inserido.\n",
    "- O método `get()` retorna uma tupla com os três maiores valores distintos inseridos até o momento, em ordem decrescente. Se não existem três valores distintos a retornar, os valores adicionais no final da tupla devem ser `None`.\n",
    "\n",
    "**IMPORTANTE:** Não é permitido ao objeto armazenar todos os valores fornecidos. Ele deve armazenar apenas os três valores maiores.\n",
    "\n",
    "Por exemplo, o código:\n",
    "\n",
    "```python\n",
    "some_values = [0, -1, 2, 0, 2, 3]\n",
    "largest3 = ThreeLargest()\n",
    "print(largest3.get())\n",
    "for x in some_values:\n",
    "    largest3.put(x)\n",
    "    print(largest3.get())\n",
    "```\n",
    "\n",
    "Vai imprimir:\n",
    "\n",
    "```\n",
    "(None, None, None)\n",
    "(0, None, None)\n",
    "(0, -1, None)\n",
    "(2, 0, -1)\n",
    "(2, 0, -1)\n",
    "(2, 0, -1)\n",
    "(3, 2, 0)\n",
    "```"
   ]
  },
  {
   "cell_type": "code",
   "execution_count": 3,
   "id": "8aa39496-a257-4f32-9271-74c2c4b9b4db",
   "metadata": {},
   "outputs": [],
   "source": [
    "# Coloque seu código aqui.\n",
    "class ThreeLargest():\n",
    "    def __init__(self):\n",
    "        self._tupla = [None,None,None]\n",
    "    def put(self,x):\n",
    "        aux = 1\n",
    "        for i in range(3):\n",
    "            if x not in self._tupla:\n",
    "                if aux:\n",
    "                    if self._tupla[i]:\n",
    "                        if int(self._tupla[i]) < x:\n",
    "                            auxval = self._tupla[1]\n",
    "                            self._tupla[1] = self._tupla[i]\n",
    "                            self._tupla[2] = auxval\n",
    "                            self._tupla[i] = x\n",
    "                            aux = 0\n",
    "                    else:\n",
    "                        self._tupla[i] = x\n",
    "                        aux = 0\n",
    "                            \n",
    "    def get(self):\n",
    "        return self._tupla[0],self._tupla[1],self._tupla[2]"
   ]
  },
  {
   "cell_type": "code",
   "execution_count": 4,
   "id": "7f4f8414-703e-4d7b-aba7-f8f379da4945",
   "metadata": {},
   "outputs": [
    {
     "ename": "AssertionError",
     "evalue": "Erro no teste 0. Esperado: (98, 90, 89), conseguido: (98, 83, 89)",
     "output_type": "error",
     "traceback": [
      "\u001b[0;31m---------------------------------------------------------------------------\u001b[0m",
      "\u001b[0;31mAssertionError\u001b[0m                            Traceback (most recent call last)",
      "Cell \u001b[0;32mIn[4], line 38\u001b[0m\n\u001b[1;32m     36\u001b[0m         l3\u001b[39m.\u001b[39mput(v)\n\u001b[1;32m     37\u001b[0m     expected \u001b[39m=\u001b[39m \u001b[39mtuple\u001b[39m(\u001b[39msorted\u001b[39m(\u001b[39mset\u001b[39m(test_val), reverse\u001b[39m=\u001b[39m\u001b[39mTrue\u001b[39;00m)[:\u001b[39m3\u001b[39m])\n\u001b[0;32m---> 38\u001b[0m     \u001b[39massert\u001b[39;00m l3\u001b[39m.\u001b[39mget() \u001b[39m==\u001b[39m expected, \u001b[39mf\u001b[39m\u001b[39m'\u001b[39m\u001b[39mErro no teste \u001b[39m\u001b[39m{\u001b[39;00mi\u001b[39m}\u001b[39;00m\u001b[39m. Esperado: \u001b[39m\u001b[39m{\u001b[39;00mexpected\u001b[39m}\u001b[39;00m\u001b[39m, conseguido: \u001b[39m\u001b[39m{\u001b[39;00ml3\u001b[39m.\u001b[39mget()\u001b[39m}\u001b[39;00m\u001b[39m'\u001b[39m\n\u001b[1;32m     40\u001b[0m \u001b[39mprint\u001b[39m(\u001b[39m'\u001b[39m\u001b[39mTodos os testes passaram.\u001b[39m\u001b[39m'\u001b[39m)\n",
      "\u001b[0;31mAssertionError\u001b[0m: Erro no teste 0. Esperado: (98, 90, 89), conseguido: (98, 83, 89)"
     ]
    }
   ],
   "source": [
    "# Código de teste\n",
    "\n",
    "largest3 = ThreeLargest()\n",
    "assert type(largest3.get()) == tuple, 'get() tem que retornar uma tupla'\n",
    "assert len(largest3.get()) == 3, 'A tupla retornada por get() deve ter 3 posições'\n",
    "assert largest3.get() == (None, None, None), 'O retorno inicial de get() deve ser (None, None, None)'\n",
    "\n",
    "largest3.put(10)\n",
    "got = largest3.get()\n",
    "assert got == (10, None, None), f'Esperado: (10, None, None), mas retornou {got}'\n",
    "largest3.put(10)\n",
    "got = largest3.get()\n",
    "assert got == (10, None, None), 'Erro na inserção de valor duplicado'\n",
    "largest3.put(2)\n",
    "got = largest3.get()\n",
    "assert got == (10, 2, None),  f'Esperado: (10, 2, None), mas retornou {got}'\n",
    "largest3.put(2)\n",
    "got = largest3.get()\n",
    "assert got == (10, 2, None),  f'Esperado: (10, 2, None), mas retornou {got} na segunda inserção de 2'\n",
    "largest3.put(30)\n",
    "got = largest3.get()\n",
    "assert got == (30, 10, 2),  f'Esperado: (30, 10, 2), mas retornou {got}'\n",
    "largest3.put(1)\n",
    "got = largest3.get()\n",
    "assert got == (30, 10, 2),  f'Esperado: (30, 10, 2), mas retornou {got} depois de inserir menor'\n",
    "largest3.put(50)\n",
    "got = largest3.get()\n",
    "assert got == (50, 30, 10),  f'Esperado: (50, 30, 10), mas retornou {got}'\n",
    "\n",
    "from random import seed, randint\n",
    "seed(7600055)\n",
    "for i in range(100):\n",
    "    test_val = [randint(-100, 100) for _ in range(50)]\n",
    "    l3 = ThreeLargest()\n",
    "    for v in test_val:\n",
    "        l3.put(v)\n",
    "    expected = tuple(sorted(set(test_val), reverse=True)[:3])\n",
    "    assert l3.get() == expected, f'Erro no teste {i}. Esperado: {expected}, conseguido: {l3.get()}'\n",
    "\n",
    "print('Todos os testes passaram.')"
   ]
  },
  {
   "cell_type": "markdown",
   "id": "461f09bf-8e9f-497e-ab22-bc3dbf5a83fc",
   "metadata": {},
   "source": [
    "## 4"
   ]
  },
  {
   "cell_type": "markdown",
   "id": "469ff7e7",
   "metadata": {},
   "source": [
    "## Nota: 0.5"
   ]
  },
  {
   "cell_type": "markdown",
   "id": "a80ea7d2-2df8-4ff6-a129-4bb1e5fdb86e",
   "metadata": {},
   "source": [
    "Escreva uma classe, denominada `NonNegativeInteger`, com as seguintes características:\n",
    "\n",
    "- Ao criar um objeto, podemos fornecer o valor inicial, que deve ser um valor inteiro não negativo. Se o valor inicial fornecido não for um inteiro, deve ser gerada a exceção `TypeError`. Se o valor inicial fornecido for um inteiro, mas for negativo, deve ser gerada a exceção `ValueError`. Se o valor inicial não for fornecido, ele é assumido como 0.\n",
    "- A classe deve ter uma **property** denominada `value`, que permite acessar o valor do objeto tanto para leitura quanto para escrita (use **decoradores** para isso). Na escrita, se o valor a escrever for do tipo errado deve ser gerado um `TypeError` e se for negativo deve ser gerado um `ValueError`.\n",
    "- A classe deve implementar operadores de soma tanto entre dois `NonNegativeInteger` quanto entre um deles e um `int`, sendo que o `int` pode estar à esquerda ou à direita do objeto. O tipo retornado por essas operações deve ser `NonNegativeInteger`. Se o resultado da soma for negativo, deve ser lançada a exceção `ValueError`. (É permitido somar com um inteiro negativo, mas o resultado não pode ser negativo.)\n",
    "- Também devem ser implementado o operador `+=`, com um `NonNegativeInteger` ou com um `int`. Se o resultado a ser atribuído for negativo, deve ser gerado um `ValueError`. \n",
    "- Se for tentado somar ou incrementar com um valor que não é nem um `NonNegativeInteger` nem um `int`, deve ser gerado um `TypeError`."
   ]
  },
  {
   "cell_type": "code",
   "execution_count": 5,
   "id": "7caceeaa-04eb-4ffd-82ba-4db223e346fb",
   "metadata": {},
   "outputs": [],
   "source": [
    "# Coloque seu código aqui.\n",
    "class NonNegativeInteger():\n",
    "    \n",
    "    def __init__(self,value):\n",
    "        self._value = value\n",
    "\n",
    "    @property\n",
    "    def value(self):\n",
    "        try:\n",
    "            if type(value) == 'int':\n",
    "                if value >= 0:\n",
    "                    self._value = value\n",
    "                else:\n",
    "                    raise ValueError\n",
    "            else:\n",
    "                raise TypeError\n",
    "        except:\n",
    "            if Exception == 'ValueError':\n",
    "                print('o valor inserido é inválido')\n",
    "            if Exception == 'TypeError':\n",
    "                print('o tipo inserido é inválido')\n",
    "\n",
    "    @value.setter\n",
    "    def value(self,value):\n",
    "        try:\n",
    "            if type(value) == 'int':\n",
    "                if value >= 0:\n",
    "                    self._value = value\n",
    "                else:\n",
    "                    raise ValueError\n",
    "            else:\n",
    "                raise TypeError\n",
    "        except:\n",
    "            if Exception == 'ValueError':\n",
    "                print('o valor inserido é inválido')\n",
    "            if Exception == 'TypeError':\n",
    "                print('o tipo inserido é inválido')\n",
    "    \n",
    "    def __add__(self,value):\n",
    "        try:\n",
    "            if type(value) == 'int':\n",
    "                return NonNegativeInteger(self._value + value)\n",
    "            if type(value) == 'NonNegativeInteger':\n",
    "                return NonNegativeInteger(self._value + value.value())\n",
    "            else:\n",
    "                raise TypeError\n",
    "        except:\n",
    "            if Exception == 'TypeError':\n",
    "                print('o tipo inserido é inválido')\n",
    "    \n",
    "    def __radd__(self,value):\n",
    "        try:\n",
    "            if type(value) == 'int':\n",
    "                return NonNegativeInteger(self._value + value)\n",
    "            if type(value) == 'NonNegativeInteger':\n",
    "                return NonNegativeInteger(self._value + value.value())\n",
    "            else:\n",
    "                raise TypeError\n",
    "        except:\n",
    "            if Exception == 'TypeError':\n",
    "                print('o tipo inserido é inválido')\n",
    "        \n",
    "    def __iadd__(self,value):\n",
    "        try:\n",
    "            if type(value) == 'int':\n",
    "                self._value = self._value + value\n",
    "            if type(value) == 'NonNegativeInteger':\n",
    "                self._value = self._value + value.value()\n",
    "            else:\n",
    "                raise TypeError\n",
    "        except:\n",
    "            if Exception == 'TypeError':\n",
    "                print('o tipo inserido é inválido')"
   ]
  },
  {
   "cell_type": "code",
   "execution_count": 6,
   "id": "10d9d178-b0a3-48bb-88ef-f0087f80d7fc",
   "metadata": {},
   "outputs": [
    {
     "ename": "AssertionError",
     "evalue": "Erro na inicialização explícita",
     "output_type": "error",
     "traceback": [
      "\u001b[0;31m---------------------------------------------------------------------------\u001b[0m",
      "\u001b[0;31mAssertionError\u001b[0m                            Traceback (most recent call last)",
      "Cell \u001b[0;32mIn[6], line 3\u001b[0m\n\u001b[1;32m      1\u001b[0m \u001b[39m# Código de teste\u001b[39;00m\n\u001b[1;32m      2\u001b[0m nn1 \u001b[39m=\u001b[39m NonNegativeInteger(\u001b[39m1\u001b[39m)\n\u001b[0;32m----> 3\u001b[0m \u001b[39massert\u001b[39;00m nn1\u001b[39m.\u001b[39mvalue \u001b[39m==\u001b[39m \u001b[39m1\u001b[39m, \u001b[39m'\u001b[39m\u001b[39mErro na inicialização explícita\u001b[39m\u001b[39m'\u001b[39m\n\u001b[1;32m      5\u001b[0m nn0 \u001b[39m=\u001b[39m NonNegativeInteger()\n\u001b[1;32m      6\u001b[0m \u001b[39massert\u001b[39;00m nn0\u001b[39m.\u001b[39mvalue \u001b[39m==\u001b[39m \u001b[39m0\u001b[39m, \u001b[39m'\u001b[39m\u001b[39mErro na inicialização default\u001b[39m\u001b[39m'\u001b[39m\n",
      "\u001b[0;31mAssertionError\u001b[0m: Erro na inicialização explícita"
     ]
    }
   ],
   "source": [
    "# Código de teste\n",
    "nn1 = NonNegativeInteger(1)\n",
    "assert nn1.value == 1, 'Erro na inicialização explícita'\n",
    "\n",
    "nn0 = NonNegativeInteger()\n",
    "assert nn0.value == 0, 'Erro na inicialização default'\n",
    "\n",
    "try:\n",
    "    nnx = NonNegativeInteger(-1)\n",
    "    raise AssertionError('Não gerou exceção para valor inicial negativo')\n",
    "except ValueError:\n",
    "    pass\n",
    "except Exception:\n",
    "    raise AssertionError('Gerou a exceção errada para valor inicial negativo')\n",
    "\n",
    "try:\n",
    "    nnx = NonNegativeInteger(2.0)\n",
    "    raise AssertionError('Não gerou exceção para valor inicial de tipo errado')\n",
    "except TypeError:\n",
    "    pass\n",
    "except Exception:\n",
    "    raise AssertionError('Gerou a exceção errada para valor inicial negativo')\n",
    "\n",
    "try:\n",
    "    nnx = NonNegativeInteger('10')\n",
    "    raise AssertionError('Não gerou exceção para valor inicial de tipo errado')\n",
    "except TypeError:\n",
    "    pass\n",
    "except Exception:\n",
    "    raise AssertionError('Gerou a exceção errada para valor inicial negativo')\n",
    "\n",
    "nn1.value = 11\n",
    "assert nn1.value == 11, 'Atribuição na property não funcionou.'\n",
    "\n",
    "try:\n",
    "    nn1.value = -13\n",
    "    raise AssertionError('Não gerou exceção para atribuição e valor negativo na property')\n",
    "except ValueError:\n",
    "    assert nn1.value == 11, 'Mudou o valor do objeto quando atribuiu valor negativo'\n",
    "except Exception:\n",
    "    raise AssertionError('Gerou a exceção errada para atribuição de valor negativo')\n",
    "\n",
    "try:\n",
    "    nn1.value = 1 + 3j\n",
    "    raise AssertionError('Não gerou exceção para atribuição e valor de tipo errado na property')\n",
    "except TypeError:\n",
    "    assert nn1.value == 11, 'Mudou o valor do objeto quando atribuiu valor de tipo errado'\n",
    "except Exception:\n",
    "    raise AssertionError('Gerou a exceção errada para atribuição de valor do tipo errado')\n",
    "\n",
    "nn2 = NonNegativeInteger(2)\n",
    "nn3 = NonNegativeInteger(3)\n",
    "nn5 = nn2 + nn3\n",
    "assert isinstance(nn5, NonNegativeInteger), 'Tipo errado retornado pela soma de dois NonNegativeInteger'\n",
    "assert nn5.value == 5, 'Erro na soma de dois NonNegativeInteger'\n",
    "\n",
    "nn6 = nn2 + 4\n",
    "assert isinstance(nn6, NonNegativeInteger), 'Tipo errado retornado pela soma de NonNegativeInteger com int'\n",
    "assert nn6.value == 6, 'Erro na soma de NonNegativeInteger com um int'\n",
    "\n",
    "nn7 = 4 + nn3\n",
    "assert isinstance(nn7, NonNegativeInteger), 'Tipo errado retornado pela soma de int com NonNegativeInteger'\n",
    "assert nn7.value == 7, 'Erro na soma de um int com um NonNegativeInteger'\n",
    "\n",
    "nny = nn7 + (-4)\n",
    "assert isinstance(nn7, NonNegativeInteger), 'Tipo errado retornado pela soma de NonNegativeInteger um int negativo'\n",
    "assert nny.value == 3, 'Erro na soma de um NonNegativeInteger com um int negativo'\n",
    "\n",
    "try:\n",
    "    nnx = nn2 + 2.0\n",
    "    raise AssertionError('Não gerou exceção para soma com tipo errado')\n",
    "except TypeError:\n",
    "    pass\n",
    "except Exception:\n",
    "    raise AssertionError('Gerou a exceção errada para soma com o tipo errado')\n",
    "\n",
    "try:\n",
    "    nnx = '10' + nn2\n",
    "    raise AssertionError('Não gerou exceção para soma revertida com tipo errado')\n",
    "except TypeError:\n",
    "    pass\n",
    "except Exception:\n",
    "    raise AssertionError('Gerou a exceção errada para soma revertida com o tipo errado')\n",
    "\n",
    "nn2 += nn3\n",
    "assert isinstance(nn2, NonNegativeInteger), '+= altera o tipo erroneamente'\n",
    "assert nn2.value == 5, 'Erro no += com NonNegativeInteger'\n",
    "\n",
    "nn2 += 20\n",
    "assert isinstance(nn2, NonNegativeInteger), '+= com int altera o tipo erroneamente'\n",
    "assert nn2.value == 25, 'Erro no += com int'\n",
    "\n",
    "try:\n",
    "    nn2 += 3.0\n",
    "    raise AssertionError('Não gerou exceção no += com tipo errado')\n",
    "except TypeError:\n",
    "    assert nn2.value == 25, 'Alterou o valor do objeto em += mesmo com tipo errado'\n",
    "except Exception:\n",
    "    raise AssertionError('Gerou a exceção errada no += com o tipo errado')\n",
    "\n",
    "try:\n",
    "    nn3 += -7\n",
    "    raise AssertionError('Não gerou exceção no += que resulta em negativo')\n",
    "except ValueError:\n",
    "    assert nn3.value == 3, 'Alterou o valor do objeto em += que resulta negativo'\n",
    "except Exception:\n",
    "    raise AssertionError('Gerou a exceção errada no += que resulta negativo')\n",
    "\n",
    "\n",
    "print('Todos os testes passaram.')"
   ]
  },
  {
   "cell_type": "markdown",
   "id": "f04eed2c-6bf4-4542-8a52-336ce7bc3893",
   "metadata": {},
   "source": [
    "## 5"
   ]
  },
  {
   "cell_type": "markdown",
   "id": "f845e6cf",
   "metadata": {},
   "source": [
    "## Nota: 1.5"
   ]
  },
  {
   "cell_type": "markdown",
   "id": "1d9bbb51-1b30-495e-b6d4-2943f735776d",
   "metadata": {},
   "source": [
    "A classe na célula abaixo representa uma esfera."
   ]
  },
  {
   "cell_type": "code",
   "execution_count": 7,
   "id": "af387791-5cb5-499a-9dc5-612beeca6e23",
   "metadata": {},
   "outputs": [],
   "source": [
    "import math\n",
    "class Ball:\n",
    "    PI = math.pi\n",
    "    \n",
    "    def __init__(self, r: float) -> None:\n",
    "        self._r = r\n",
    "\n",
    "    def surface(self) -> float:\n",
    "        return 4 * Ball.PI * self._r ** 2\n",
    "\n",
    "    def volume(self) -> float:\n",
    "        return 4 * Ball.PI * self._r ** 3 / 3"
   ]
  },
  {
   "cell_type": "markdown",
   "id": "7d3e74cc-4c03-4c76-97c3-5225716400c7",
   "metadata": {},
   "source": [
    "Escreva abaixo uma classe derivada de `Ball` denominada `PhysicalBall`, com as seguintes características adicionais:\n",
    "\n",
    "- Quando criamos um `PhysicalBall`, além do raio fornecemos também a densidade.\n",
    "- Ela tem um método `density()` que retorna a densidade.\n",
    "- Ela tem um método `mass()` que retorna a massa.\n",
    "\n",
    "Use herança apropriadamente."
   ]
  },
  {
   "cell_type": "code",
   "execution_count": 8,
   "id": "9c3745dc",
   "metadata": {},
   "outputs": [],
   "source": [
    "# Coloque seu código aqui.\n",
    "class PhysicalBall(Ball):\n",
    "    \n",
    "    def __init__(self, r: float, density: float) -> None:\n",
    "        super().__init__(r)\n",
    "        self._density = density\n",
    "    \n",
    "    def density(self) -> float:\n",
    "        return self._density\n",
    "    \n",
    "    def mass(self) -> float:\n",
    "        mass = 4 * Ball.PI * self._r ** 3 * self._density / 3\n",
    "        return mass"
   ]
  },
  {
   "cell_type": "code",
   "execution_count": 9,
   "id": "0f00cc47-b94d-4cda-ba60-ad0c3d2a22fd",
   "metadata": {},
   "outputs": [
    {
     "name": "stdout",
     "output_type": "stream",
     "text": [
      "Todos os testes passaram.\n"
     ]
    }
   ],
   "source": [
    "# Testes\n",
    "from math import pi, isclose\n",
    "\n",
    "pb = PhysicalBall(1, 1)\n",
    "assert isinstance(pb, Ball), 'PhysicalBall precisa ser derivada de Ball'\n",
    "assert isclose(pb.density(), 1), 'Densidade errada.'\n",
    "assert isclose(pb.surface(), 4 * math.pi), 'Superfície errada'\n",
    "assert isclose(pb.volume(), 4 * math.pi / 3), 'Volume errado'\n",
    "assert isclose(pb.mass(), 4 * math.pi / 3), 'Massa errada errada'\n",
    "\n",
    "from random import seed, random\n",
    "seed(7600055)\n",
    "for i in range(100):\n",
    "    r = 100 * random()\n",
    "    d = 10 * random()\n",
    "    pbi = PhysicalBall(r, d)\n",
    "    assert isclose(pbi.density(), d), f'Densidade {i} errada.'\n",
    "    assert isclose(pbi.surface(), 4 * math.pi * r ** 2), f'Superfície {i} errada'\n",
    "    assert isclose(pbi.volume(), 4 * math.pi * r ** 3/ 3), f'Volume {i} errado'\n",
    "    assert isclose(pbi.mass(), 4 * math.pi * r ** 3 * d/ 3), f'Massa {i} errada errada'\n",
    "    \n",
    "print('Todos os testes passaram.')"
   ]
  },
  {
   "cell_type": "code",
   "execution_count": null,
   "id": "76545a33-f985-432d-a3fa-daf6e1ae7719",
   "metadata": {},
   "outputs": [],
   "source": []
  }
 ],
 "metadata": {
  "kernelspec": {
   "display_name": "Python 3 (ipykernel)",
   "language": "python",
   "name": "python3"
  },
  "language_info": {
   "codemirror_mode": {
    "name": "ipython",
    "version": 3
   },
   "file_extension": ".py",
   "mimetype": "text/x-python",
   "name": "python",
   "nbconvert_exporter": "python",
   "pygments_lexer": "ipython3",
   "version": "3.11.2"
  }
 },
 "nbformat": 4,
 "nbformat_minor": 5
}
