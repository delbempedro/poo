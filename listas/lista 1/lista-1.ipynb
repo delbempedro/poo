{
 "cells": [
  {
   "cell_type": "markdown",
   "id": "d7b6cb4c-8310-42d5-b729-8287e64f29e4",
   "metadata": {},
   "source": [
    "# Lista de exercícios 1"
   ]
  },
  {
   "cell_type": "markdown",
   "id": "4010c376-8023-4e5b-9243-2dc3e758be36",
   "metadata": {},
   "source": [
    "Implemente as funções solicitadas abaixo. Teste seu código rodando as células de teste fornecidas, após a implementação."
   ]
  },
  {
   "cell_type": "markdown",
   "id": "68f7f9b1-360e-40c6-8fee-0210c2634cee",
   "metadata": {},
   "source": [
    "## 1"
   ]
  },
  {
   "cell_type": "markdown",
   "id": "88f9ce62-8c2b-48ff-94b0-3c0552b79c36",
   "metadata": {},
   "source": [
    "Escreva uma função denominada `abs_sum` que receba uma lista de valores e retorne a soma do valor absoluto dos valores contidos na lista.\n",
    "\n",
    "Por exemplo, ao executar\n",
    "```python\n",
    "abs_sum([1, -2, 3, -4, 5])\n",
    "```\n",
    "a função deve retornar `15`."
   ]
  },
  {
   "cell_type": "code",
   "execution_count": 15,
   "id": "3293c687-1dde-40c4-bc47-a2d8495b396e",
   "metadata": {},
   "outputs": [],
   "source": [
    "# Defina a função aqui.\n",
    "def abs_sum(x):\n",
    "    a = 0\n",
    "    for i in x:\n",
    "        a += abs(i)\n",
    "    return a"
   ]
  },
  {
   "cell_type": "code",
   "execution_count": 16,
   "id": "da88686c-842b-44d4-886b-efcef78d8083",
   "metadata": {},
   "outputs": [
    {
     "name": "stdout",
     "output_type": "stream",
     "text": [
      "All tests passed!\n"
     ]
    }
   ],
   "source": [
    "# Testes\n",
    "import math\n",
    "assert abs_sum([1, -2, 3, -4, 5]) == 15, 'wrong result for the example'\n",
    "assert math.isclose(abs_sum([1.3, 2.5, -10.7, 12 / 5]), 16.9), 'wrong floating point result'\n",
    "assert math.isclose(abs_sum([1j, -1+2j, 3 - 5j]), 9.06701987234509), 'wrong complex sum'\n",
    "assert math.isclose(abs_sum([1, -2.3, 4 + 5j]), abs_sum([1, -2.3, 4+5j])), 'wrong mixed sum'\n",
    "assert abs_sum([-10]) == 10, 'wrong singleton sum'\n",
    "assert abs_sum([]) == 0, 'wrong empty list sum'\n",
    "print('All tests passed!')"
   ]
  },
  {
   "cell_type": "markdown",
   "id": "7e2fd2b4-e091-44b5-85fa-4a1b01c85935",
   "metadata": {},
   "source": [
    "## 2"
   ]
  },
  {
   "cell_type": "markdown",
   "id": "90506e93-1eaf-4a3e-87f0-ee123f37ff27",
   "metadata": {},
   "source": [
    "Escreva uma função que receba dois parâmetros, o primeiro sendo uma lista de números inteiros e o segundo um número inteiro `p`, e retorne uma lista com os número presentes na lista dada que são múltiplos de `p`, na mesma ordem em que eles aparecem na lista original. Chame essa função de `get_multiples`.\n",
    "\n",
    "Por exemplo, ao executar\n",
    "```python\n",
    "get_multiples([1, 5, 9, 20, 7, 6, -10], 5)\n",
    "```\n",
    "o resultado deve ser a lista:\n",
    "```python\n",
    "[5, 20, -10]\n",
    "```"
   ]
  },
  {
   "cell_type": "code",
   "execution_count": 18,
   "id": "f7ed8dea-2da8-40ae-837e-c37914e66b49",
   "metadata": {},
   "outputs": [],
   "source": [
    "# Defina sua função aqui.\n",
    "def get_multiples(lista,p):\n",
    "    result = []\n",
    "    for i in lista:\n",
    "        if i % p == 0:\n",
    "            result.append(i)\n",
    "    return result"
   ]
  },
  {
   "cell_type": "code",
   "execution_count": 19,
   "id": "d22605b9-a72b-4dc9-ba69-65625236362b",
   "metadata": {},
   "outputs": [
    {
     "name": "stdout",
     "output_type": "stream",
     "text": [
      "All tests passed\n"
     ]
    }
   ],
   "source": [
    "# Testes\n",
    "assert get_multiples([1, 5, 9, 20, 7, 6, -10], 5) == [5, 20, -10], 'example failed'\n",
    "assert get_multiples([19, 23, 21, 1, 11, 27, 5, 0, 15, 24], 3) == [21, 27, 0, 15, 24], 'wrong result'\n",
    "assert get_multiples([19, 9, 21, 26, 3, 24, 2, 27, 29, 4], 17) == [], 'wrong result for no multiples'\n",
    "assert get_multiples([], 2) == [], 'wrong result for empty list'\n",
    "print('All tests passed')"
   ]
  },
  {
   "cell_type": "markdown",
   "id": "fd602aa3-0809-4148-89b0-5b83dc4b78a7",
   "metadata": {},
   "source": [
    "## 3"
   ]
  },
  {
   "cell_type": "markdown",
   "id": "d8acab84-764c-40c7-a6d3-9015e5e5410f",
   "metadata": {},
   "source": [
    "Escreva uma função, denominada `harmonic`, que calcule a série harmônica truncada de um número inteiro positivo $n$, definida como\n",
    "$$h(n) = \\sum_{k=1}^{n}\\frac{1}{k}.$$"
   ]
  },
  {
   "cell_type": "code",
   "execution_count": 22,
   "id": "26797345-4132-44be-9907-bed75443666e",
   "metadata": {},
   "outputs": [],
   "source": [
    "# Escreva sua função aqui.\n",
    "def harmonic(n):\n",
    "    k = 0\n",
    "    result = 0\n",
    "    while k < n:\n",
    "        k += 1\n",
    "        result += 1/k\n",
    "    return result"
   ]
  },
  {
   "cell_type": "code",
   "execution_count": 23,
   "id": "a317e5db-d931-4502-9f91-65cf651f9af2",
   "metadata": {},
   "outputs": [
    {
     "name": "stdout",
     "output_type": "stream",
     "text": [
      "All tests passed!\n"
     ]
    }
   ],
   "source": [
    "# Testes\n",
    "assert math.isclose(harmonic(1), 1.0), 'h(1) failed'\n",
    "assert math.isclose(harmonic(2), 1.5), 'h(2) failed'\n",
    "assert math.isclose(harmonic(3), 1.8333333333333333), 'h(3) failed'\n",
    "assert math.isclose(harmonic(10), 2.9289682539682538), 'h(10) failed'\n",
    "assert math.isclose(harmonic(100), 5.187377517639621), 'h(100) failed'\n",
    "print('All tests passed!')"
   ]
  },
  {
   "cell_type": "markdown",
   "id": "6b9a0312-dd56-4b74-8689-5679bf55a323",
   "metadata": {},
   "source": [
    "## 4"
   ]
  },
  {
   "cell_type": "markdown",
   "id": "873c1b34-7c5e-42ad-a4b4-d75d7ff87449",
   "metadata": {},
   "source": [
    "Escreva uma função denominada `pairs` que, dada uma lista de valores, gera uma lista de tuplas com dois valores consecutivos da lista. Se a lista original tem um número ímpar de valores, o último é descartado.\n",
    "\n",
    "Por exemplo, uma chamada:\n",
    "```python\n",
    "pairs([1, 5, 9, 20, 7, 6, -10])\n",
    "```\n",
    "gera a saída\n",
    "```python\n",
    "[(1, 5), (9, 20), (7, 6)]\n",
    "```"
   ]
  },
  {
   "cell_type": "code",
   "execution_count": 29,
   "id": "df03e6b2-08d4-4d08-8dc9-e07796fa59c6",
   "metadata": {},
   "outputs": [],
   "source": [
    "# Escreva sua função aqui.\n",
    "def pairs(lista):\n",
    "    result = []\n",
    "    for i in range(0,len(lista),2):\n",
    "        if i+1  < len(lista):\n",
    "            result.append((lista[i],lista[i+1]))\n",
    "    return result"
   ]
  },
  {
   "cell_type": "code",
   "execution_count": 30,
   "id": "3bb246a4-572c-4abb-b257-f7fce3ce23a8",
   "metadata": {},
   "outputs": [
    {
     "name": "stdout",
     "output_type": "stream",
     "text": [
      "All tests passed\n"
     ]
    }
   ],
   "source": [
    "# Testes\n",
    "assert pairs([1, 5, 9, 20, 7, 6, -10]) == [(1, 5), (9, 20), (7, 6)], 'example failed'\n",
    "assert pairs([19, 23, 21, 1, 11, 27, 5, 0, 15, 24]) == [(19, 23), (21, 1), (11, 27), (5, 0), (15, 24)], 'second example failed'\n",
    "assert pairs([1, 2]) == [(1, 2)], 'single pair failed'\n",
    "assert pairs([3]) == [], 'single value failed'\n",
    "assert pairs([]) == [], 'empty list failed'\n",
    "print('All tests passed')"
   ]
  },
  {
   "cell_type": "code",
   "execution_count": null,
   "id": "bee33c23-e0ed-49e9-8daa-254e30c78c60",
   "metadata": {},
   "outputs": [],
   "source": []
  }
 ],
 "metadata": {
  "kernelspec": {
   "display_name": "Python 3 (ipykernel)",
   "language": "python",
   "name": "python3"
  },
  "language_info": {
   "codemirror_mode": {
    "name": "ipython",
    "version": 3
   },
   "file_extension": ".py",
   "mimetype": "text/x-python",
   "name": "python",
   "nbconvert_exporter": "python",
   "pygments_lexer": "ipython3",
   "version": "3.9.7"
  }
 },
 "nbformat": 4,
 "nbformat_minor": 5
}
