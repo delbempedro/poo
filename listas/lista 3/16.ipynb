{
 "cells": [
  {
   "cell_type": "markdown",
   "id": "432fb2aa-a46c-4ef6-970d-66936034715f",
   "metadata": {},
   "source": [
    "# Lista de Exercícios 3 (simulado de prova)"
   ]
  },
  {
   "cell_type": "markdown",
   "id": "9cddd1e4-0c8f-4f73-a768-a207ca56fb68",
   "metadata": {},
   "source": [
    "Responda aos exercícios abaixo nos locais indicados.\n",
    "\n",
    "Após terminar, salve o notebook com suas alterações e feche o navegador, saida da sua área e desligue o computador.\n",
    "\n",
    "Não é necessário mudar o nome do arquivo ou colocar o seu nome em qualquer.\n",
    "\n",
    "Não se esqueça de colocar seu nome e entregar ao professor antes de sair a fita com o seu nome de usuário e senha."
   ]
  },
  {
   "cell_type": "markdown",
   "id": "37badc79-d739-4643-b58b-6edc05417bf2",
   "metadata": {},
   "source": [
    "## 1"
   ]
  },
  {
   "cell_type": "markdown",
   "id": "24ad979c-f85c-4595-b2b0-53b5e45d5a55",
   "metadata": {},
   "source": [
    "Complete a função `split` abaixo que recebe uma lista (parâmetro `original`) e um número inteiro não-negativo (parâmetro `n`) e retorna duas listas, a primeira lista retornada tem os `n` primeiro elementos da lista `original`, a segunda lista tem os elementos restantes. Se `original` tem menos do que `n` elementos, todos serão retornados na primeira lista e a segunda lista será vazia."
   ]
  },
  {
   "cell_type": "code",
   "execution_count": 1,
   "id": "3c50a98c-b4c8-4d96-a710-555eac417e26",
   "metadata": {},
   "outputs": [],
   "source": [
    "def split(original, n):\n",
    "    primeira = []\n",
    "    segunda = []\n",
    "    if n < len(original):\n",
    "        for item in range(n):\n",
    "            primeira.append(original[item])\n",
    "        for item in range(n,len(original)):\n",
    "            segunda.append(original[item])\n",
    "    else:\n",
    "        for item in original:\n",
    "            primeira.append(item)\n",
    "    return primeira, segunda"
   ]
  },
  {
   "cell_type": "code",
   "execution_count": 2,
   "id": "92f844ef-07fd-4350-9378-f35a8b480391",
   "metadata": {},
   "outputs": [],
   "source": [
    "# Esta célula tem alguns teste. Não altere o código desta célula.\n",
    "a, b = split([1, 2, 3, 4], 2)\n",
    "assert a == [1, 2] and b == [3, 4], 'test 1 failed'\n",
    "a, b = split([1, 2, 3, 4, 5], 1)\n",
    "assert a == [1] and b == [2, 3, 4, 5], 'test 2 failed'\n",
    "a, b = split([1, 2, 3, 4, 5], 0)\n",
    "assert a == [] and b == [1, 2, 3, 4, 5], 'test 3 failed'\n",
    "a, b = split([1, 2, 3, 4, 5], 5)\n",
    "assert a == [1, 2, 3, 4, 5] and b == [], 'test 4 failed'\n",
    "a, b = split([1, 2, 3, 4, 5], 6)\n",
    "assert a == [1, 2, 3, 4, 5] and b == [], 'test 5 failed'\n",
    "a, b = split([1], 1)\n",
    "assert a == [1] and b == [], 'test 6 failed'\n",
    "a, b = split([1], 0)\n",
    "assert a == [] and b == [1], 'test 7 failed'\n",
    "a, b = split([1], 2)\n",
    "assert a == [1] and b == [], 'test 8 failed'\n",
    "for i in range(10):\n",
    "    a, b = split([], i)\n",
    "    assert a == [] and b == [], f'test 9 failed at iteration {i}'"
   ]
  },
  {
   "cell_type": "markdown",
   "id": "f1e99663-935f-486a-b791-c75049c08173",
   "metadata": {},
   "source": [
    "## 2"
   ]
  },
  {
   "cell_type": "markdown",
   "id": "44297a23-8269-4dcf-b0b6-2afa3ffd43f5",
   "metadata": {},
   "source": [
    "A função abaixo deve ser uma função geradora que gera a sequência, começando em 3, de todos os múltiplos de 3 que não são também múltiplos de 5. Não existe um critério de parada. O gerador deve gerar tantos valores da sequência quantos forem solicitados.\n",
    "\n",
    "Por exemplo, os 10 primeiros valores da sequência são:\n",
    "\n",
    "    3 6 9 12 18 21 24 27 33 36"
   ]
  },
  {
   "cell_type": "code",
   "execution_count": 3,
   "id": "dcf84127-3bb5-4c05-9fef-3c63731a7da3",
   "metadata": {},
   "outputs": [],
   "source": [
    "def multiples_of_3_but_not_5():\n",
    "    number = 3\n",
    "    while 0==0:\n",
    "        if number%3 == 0 and number%5 != 0:\n",
    "            yield number\n",
    "        else:\n",
    "            while number%3 != 0 or number%5 == 0:\n",
    "                number += 1\n",
    "            yield number\n",
    "        number +=1"
   ]
  },
  {
   "cell_type": "code",
   "execution_count": 4,
   "id": "28a22dd8-7b2a-4d5f-9d46-3b57f608fa95",
   "metadata": {},
   "outputs": [],
   "source": [
    "# Código de teste. Não altere este código.\n",
    "def get_some(generator, n):\n",
    "    return [next(generator) for _ in range(n)]\n",
    "assert get_some(multiples_of_3_but_not_5(), 1) == [3], 'test 1 failed'\n",
    "assert get_some(multiples_of_3_but_not_5(), 4) == [3, 6, 9, 12], 'test 2 failed'\n",
    "assert get_some(multiples_of_3_but_not_5(), 5) == [3, 6, 9, 12, 18], 'test 3 failed'\n",
    "assert get_some(multiples_of_3_but_not_5(), 10) == [3, 6, 9, 12, 18, 21, 24, 27, 33, 36], 'test 4 failed'\n",
    "m1 = multiples_of_3_but_not_5()\n",
    "assert get_some(m1, 4) == [3, 6, 9, 12], 'test 5 failed'\n",
    "assert get_some(m1, 4) == [18, 21, 24, 27], 'test 6 failed'\n",
    "assert get_some(m1, 4) == [33, 36, 39, 42], 'test 7 failed'"
   ]
  },
  {
   "cell_type": "markdown",
   "id": "279c258d-6380-480e-8a80-9d918f130ce7",
   "metadata": {},
   "source": [
    "## 3"
   ]
  },
  {
   "cell_type": "markdown",
   "id": "e2f658d2-97d6-44f5-8cdc-000a7078a536",
   "metadata": {},
   "source": [
    "A classe `Time` abaixo pretende representar o horário do dia como horas, minutos e segundos. Dado um objeto da classe (digamos, `t`), uma chamada `t.tick()` incrementa os segundos, ajustando minutos e horas de acordo com o necessário. Ao passar das 23:59:59, um novo *tick* vai colocar o horário em 00:00:00.\n",
    "\n",
    "Uma chamada `t.get_time()` deve retornar uma tupla de inteiros, cujo primeiro valor é a hora, o segundo os minutos e o terceiro os segundos.\n",
    "\n",
    "Veja também os exemplos de uso no código de testes, especialmente quanto a opções de criação de objetos.\n",
    "\n",
    "Implemente a classe. Use a representação que julgar apropriada, desde que a interface dos métodos seja como especificado. Não se esqueça de usar encapsulação."
   ]
  },
  {
   "cell_type": "code",
   "execution_count": 5,
   "id": "1cd65814-cf60-4f1a-80eb-7a63ba3b9f4e",
   "metadata": {},
   "outputs": [],
   "source": [
    "class Time():\n",
    "    \n",
    "    def __init__(self,h=0,m=0,s=0):\n",
    "        self._horas = h\n",
    "        self._minutos = m\n",
    "        self._segundos = s\n",
    "        \n",
    "    def tick(self):\n",
    "        if self._segundos + 1 < 60:\n",
    "            self._segundos += 1\n",
    "        else:\n",
    "            self._segundos = 0\n",
    "            \n",
    "            if self._minutos + 1 < 60:\n",
    "                self._minutos += 1\n",
    "            else:\n",
    "                self._minutos = 0\n",
    "                \n",
    "                if self._horas + 1 < 24:\n",
    "                    self._horas += 1\n",
    "                else:\n",
    "                    self._horas = 0\n",
    "    \n",
    "    def get_time(self):\n",
    "        return(self._horas,self._minutos,self._segundos)"
   ]
  },
  {
   "cell_type": "code",
   "execution_count": 6,
   "id": "fd017793-352f-495e-836d-4a1242775cfe",
   "metadata": {},
   "outputs": [],
   "source": [
    "# Código de teste. Não altere este código.\n",
    "t1 = Time(22, 58, 55)\n",
    "h, m, s = t1.get_time()\n",
    "assert h == 22 and m == 58 and s == 55, 'test 1 failed'\n",
    "t1.tick()\n",
    "h, m, s = t1.get_time()\n",
    "assert h == 22 and m == 58 and s == 56, 'test 2 failed'\n",
    "for _ in range(4):\n",
    "    t1.tick()\n",
    "h, m, s = t1.get_time()\n",
    "assert h == 22 and m == 59 and s == 0, 'test 3 failed'\n",
    "for _ in range(59):\n",
    "    t1.tick()\n",
    "h, m, s = t1.get_time()\n",
    "assert h == 22 and m == 59 and s == 59, 'test 4 failed'\n",
    "t1.tick()\n",
    "h, m, s = t1.get_time()\n",
    "assert h == 23 and m == 0 and s == 0, 'test 5 failed'\n",
    "for _ in range(3600):\n",
    "    t1.tick()\n",
    "h, m, s = t1.get_time()\n",
    "assert h == 0 and m == 0 and s == 0, 'test 6 failed'\n",
    "t2 = Time()\n",
    "h, m, s = t2.get_time()\n",
    "assert h == 0 and m == 0 and s == 0, 'test 7 failed'\n",
    "for i in range(24 * 60 * 60):\n",
    "    t1.tick()\n",
    "    t2.tick()\n",
    "    h1, m1, s1 = t1.get_time()\n",
    "    h2, m2, s2 = t2.get_time()\n",
    "    assert h1 == h2 and m1 == m2 and s1 == s2, f'test 8 failed at iteration {i}'"
   ]
  },
  {
   "cell_type": "markdown",
   "id": "8692e1b9-6a8e-4285-a27e-110e560755af",
   "metadata": {},
   "source": [
    "## 4"
   ]
  },
  {
   "cell_type": "markdown",
   "id": "4b982ce4-f433-425c-81fe-6b018b4f01de",
   "metadata": {},
   "source": [
    "A classe abaixo é uma representação simples de uma obra de arte."
   ]
  },
  {
   "cell_type": "code",
   "execution_count": 7,
   "id": "cba97cb5-25f4-4d37-8ba7-c9874ec3cc37",
   "metadata": {},
   "outputs": [],
   "source": [
    "class Artwork:\n",
    "    def __init__(self, artist, type_, name):\n",
    "        self._artist = artist\n",
    "        self._type = type_\n",
    "        self._name = name\n",
    "        \n",
    "    def description(self):\n",
    "        return f'{self._name} from {self._artist} ({self._type})'"
   ]
  },
  {
   "cell_type": "markdown",
   "id": "ef9cacc4-517c-4845-9f2f-621671303770",
   "metadata": {},
   "source": [
    "Abaixo segue um exemplo de uso."
   ]
  },
  {
   "cell_type": "code",
   "execution_count": 46,
   "id": "5b53c3b5-6f90-4c6e-a35f-f2b0a53c704b",
   "metadata": {},
   "outputs": [
    {
     "name": "stdout",
     "output_type": "stream",
     "text": [
      "Madonna from Leonardo (painting)\n",
      "The School of Athens from Raphael (painting)\n",
      "David from Michelangelo (sculpture)\n",
      "The Four Seasons from Vivaldi (concerto)\n",
      "The Divine Comedy from Dante (poem)\n"
     ]
    }
   ],
   "source": [
    "collection = [Artwork('Leonardo', 'painting', 'Madonna'),\n",
    "              Artwork('Raphael', 'painting', 'The School of Athens'),\n",
    "              Artwork('Michelangelo', 'sculpture', 'David'),\n",
    "              Artwork('Vivaldi', 'concerto', 'The Four Seasons'),\n",
    "              Artwork('Dante', 'poem', 'The Divine Comedy')]\n",
    "\n",
    "for piece in collection:\n",
    "    print(piece.description())"
   ]
  },
  {
   "cell_type": "markdown",
   "id": "6d8aa293-1c9b-491d-9cdf-c61840336ad5",
   "metadata": {},
   "source": [
    "Você deve implementar abaixo a classe `ValuableArtwork`, que vai ser derivada de `Artwork` mas acrescenta informação sobre seu valor de compra (fornecido na criação do objeto com um parâmetro adicional ao nome do artista, tipo e nome da peça) e um método `value()` que retorna esse valor.\n",
    "\n",
    "Veja exemplos de uso no código de teste."
   ]
  },
  {
   "cell_type": "code",
   "execution_count": 8,
   "id": "bc83526f-587e-4624-b239-1d8388ff45ab",
   "metadata": {},
   "outputs": [],
   "source": [
    "# Implemente nesta célula a classe ValuableArtwork\n",
    "class ValuableArtwork(Artwork):\n",
    "        def __init__(self, artist, type_, name, value):\n",
    "            self._artist = artist\n",
    "            self._type = type_\n",
    "            self._name = name\n",
    "            self._value = value\n",
    "    \n",
    "        def value(self):\n",
    "            return self._value"
   ]
  },
  {
   "cell_type": "code",
   "execution_count": 9,
   "id": "16b3876e-ab50-4787-8ef6-9aff79523a30",
   "metadata": {},
   "outputs": [
    {
     "name": "stdout",
     "output_type": "stream",
     "text": [
      "Madonna from Leonardo (painting) has value 1000000000\n",
      "Salvator Mundi from Leonardo (painting) has value 500000000\n",
      "The Standard Bearer from Rembrandt (painting) has value 200000000\n"
     ]
    }
   ],
   "source": [
    "# Este é código de teste. Não altere esta célula.\n",
    "valcoll = [ValuableArtwork('Leonardo', 'painting', 'Madonna', 1_000_000_000),\n",
    "           ValuableArtwork('Leonardo', 'painting', 'Salvator Mundi', 500_000_000),\n",
    "           ValuableArtwork('Rembrandt', 'painting', 'The Standard Bearer', 200_000_000)]\n",
    "for piece in valcoll:\n",
    "    print(f'{piece.description()} has value {piece.value()}')"
   ]
  },
  {
   "cell_type": "code",
   "execution_count": null,
   "id": "634a99fb-6911-424f-98c3-5a1927566503",
   "metadata": {},
   "outputs": [],
   "source": []
  }
 ],
 "metadata": {
  "kernelspec": {
   "display_name": "Python 3 (ipykernel)",
   "language": "python",
   "name": "python3"
  },
  "language_info": {
   "codemirror_mode": {
    "name": "ipython",
    "version": 3
   },
   "file_extension": ".py",
   "mimetype": "text/x-python",
   "name": "python",
   "nbconvert_exporter": "python",
   "pygments_lexer": "ipython3",
   "version": "3.11.2"
  }
 },
 "nbformat": 4,
 "nbformat_minor": 5
}
